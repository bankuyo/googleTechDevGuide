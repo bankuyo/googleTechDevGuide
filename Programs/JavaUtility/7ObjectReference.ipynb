{
 "cells": [
  {
   "cell_type": "markdown",
   "metadata": {},
   "source": [
    "# Object Reference\n",
    "- https://www.youtube.com/watch?v=EUCEx6j-7z4"
   ]
  },
  {
   "cell_type": "code",
   "execution_count": 10,
   "metadata": {},
   "outputs": [
    {
     "name": "stdout",
     "output_type": "stream",
     "text": [
      "java.lang.Object@2e7cdf9e\n",
      "Hello\n",
      "Bye\n",
      "Hello\n",
      "Hello\n"
     ]
    }
   ],
   "source": [
    "Object obj = new Object();\n",
    "System.out.println(obj);\n",
    "\n",
    "String foo = \"Hello\";\n",
    "String bar = \"Bye\";\n",
    "System.out.println(foo);\n",
    "System.out.println(bar);\n",
    "\n",
    "bar = foo;\n",
    "System.out.println(foo);\n",
    "System.out.println(bar);"
   ]
  },
  {
   "cell_type": "markdown",
   "metadata": {},
   "source": [
    "***\n",
    "## Implementing Palindrom class\n",
    "- Input => from standrad input\n",
    "- Example of Palindrom string\n",
    "    - HelleH => Palindrom\n",
    "    - aaabaaa => Palindrom\n",
    "    - Heel => Not Palindrom"
   ]
  },
  {
   "cell_type": "code",
   "execution_count": 6,
   "metadata": {},
   "outputs": [
    {
     "name": "stdout",
     "output_type": "stream",
     "text": [
      "Input a string to test it is a Palindrom and press enter\n"
     ]
    },
    {
     "name": "stdin",
     "output_type": "stream",
     "text": [
      " etwetgvaeds\n"
     ]
    },
    {
     "name": "stdout",
     "output_type": "stream",
     "text": [
      "\n",
      "This is not a palindrom\n",
      "However there were 0 common characters on both sides\n",
      "There are 11 characters incorrectly matched.\n",
      "Would you like to try another palindrom (y / n)"
     ]
    },
    {
     "name": "stdin",
     "output_type": "stream",
     "text": [
      " adddla\n"
     ]
    }
   ],
   "source": [
    "import java.util.Scanner;\n",
    "\n",
    "Scanner scan = new Scanner(System.in);\n",
    "String str, another = \"y\";\n",
    "int left, right, counter = 0, remain = 0;\n",
    "\n",
    "while(another.equalsIgnoreCase(\"y\")){\n",
    "    System.out.println(\"Input a string to test it is a Palindrom and press enter\");\n",
    "    str = (String) scan.nextLine();\n",
    "    left = 0;\n",
    "    right = str.length()-1;\n",
    "    \n",
    "    while(str.charAt(left) == str.charAt(right) && (left < right)){\n",
    "        left++;\n",
    "        right--;\n",
    "        counter++;\n",
    "    }\n",
    "    System.out.println();\n",
    "    if (left < right){\n",
    "        System.out.println(\"This is not a palindrom\");\n",
    "        System.out.println(\"However there were \" + counter + \" common characters on both sides\");\n",
    "        remain = (str.length()-2*counter);\n",
    "        System.out.println(\"There are \" + remain + \" characters incorrectly matched.\");\n",
    "    }else{\n",
    "        System.out.println(\"Yes! That string is palindrom\");\n",
    "    }\n",
    "    System.out.print(\"Would you like to try another palindrom (y / n)\");\n",
    "    another = scan.nextLine();\n",
    "}"
   ]
  },
  {
   "cell_type": "code",
   "execution_count": null,
   "metadata": {},
   "outputs": [],
   "source": []
  },
  {
   "cell_type": "code",
   "execution_count": null,
   "metadata": {},
   "outputs": [],
   "source": []
  }
 ],
 "metadata": {
  "kernelspec": {
   "display_name": "Java",
   "language": "java",
   "name": "java"
  },
  "language_info": {
   "codemirror_mode": "java",
   "file_extension": ".jshell",
   "mimetype": "text/x-java-source",
   "name": "Java",
   "pygments_lexer": "java",
   "version": "15.0.1+9-18"
  }
 },
 "nbformat": 4,
 "nbformat_minor": 4
}
