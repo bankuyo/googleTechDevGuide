{
 "cells": [
  {
   "cell_type": "markdown",
   "metadata": {},
   "source": [
    "# Map\n",
    "## Declaration :\n",
    "- \n",
    "#### Map < key : type , value : type > variableName = new HashMap<>()\n",
    "\n",
    "## Main Method\n",
    "- **put**\n",
    "- **get**\n",
    "- **remove** : remove the element\n",
    "- **keySet** : List all key\n",
    "- **containsKey** : Find is it contains or not => true or false\n",
    "\n",
    "## Other utility\n",
    "- Map to Array"
   ]
  },
  {
   "cell_type": "markdown",
   "metadata": {},
   "source": [
    "***\n",
    "## Put and Get and Remove"
   ]
  },
  {
   "cell_type": "code",
   "execution_count": 45,
   "metadata": {},
   "outputs": [
    {
     "name": "stdout",
     "output_type": "stream",
     "text": [
      "Happy\n"
     ]
    }
   ],
   "source": [
    "// Example\n",
    "Map<String, String> table = new HashMap<>();\n",
    "\n",
    "table.put(\"Monday\", \"Happy\");\n",
    "table.put(\"Tuesday\", \"Party\");\n",
    "table.put(\"Wednesday\", \"Daddy\");\n",
    "\n",
    "System.out.println(table.get(\"Monday\"));"
   ]
  },
  {
   "cell_type": "code",
   "execution_count": 48,
   "metadata": {},
   "outputs": [
    {
     "name": "stdout",
     "output_type": "stream",
     "text": [
      "[Monday, Wednesday]\n"
     ]
    }
   ],
   "source": [
    "// Remove\n",
    "table.remove(\"Tuesday\");\n",
    "\n",
    "// No error even if doesn't exisit\n",
    "table.remove(\"Helloesday\");\n",
    "System.out.println(table.keySet());"
   ]
  },
  {
   "cell_type": "markdown",
   "metadata": {},
   "source": [
    "***\n",
    "## keySet"
   ]
  },
  {
   "cell_type": "code",
   "execution_count": 21,
   "metadata": {},
   "outputs": [
    {
     "name": "stdout",
     "output_type": "stream",
     "text": [
      "[Monday, Wednesday, Tuesday]\n",
      "Monday\n",
      "Wednesday\n",
      "Tuesday\n"
     ]
    }
   ],
   "source": [
    "// keySet \n",
    "System.out.println(table.keySet());\n",
    "\n",
    "// Use at for loop\n",
    "for (String key : table.keySet()){\n",
    "    System.out.println(key);\n",
    "}"
   ]
  },
  {
   "cell_type": "markdown",
   "metadata": {},
   "source": [
    "***\n",
    "## containsKey"
   ]
  },
  {
   "cell_type": "code",
   "execution_count": 24,
   "metadata": {},
   "outputs": [
    {
     "name": "stdout",
     "output_type": "stream",
     "text": [
      "true\n",
      "false\n"
     ]
    }
   ],
   "source": [
    "// containsKey\n",
    "System.out.println(table.containsKey(\"Monday\"));\n",
    "System.out.println(table.containsKey(\"Sunday\"));"
   ]
  },
  {
   "cell_type": "markdown",
   "metadata": {},
   "source": [
    "***\n",
    "## Map to Array\n",
    "- Sort by key value"
   ]
  },
  {
   "cell_type": "code",
   "execution_count": 50,
   "metadata": {},
   "outputs": [
    {
     "name": "stdout",
     "output_type": "stream",
     "text": [
      "Hello\n",
      "Good Evening\n",
      "Good noon\n"
     ]
    }
   ],
   "source": [
    "Map<Integer,String> table = new HashMap();\n",
    "table.put( 7, \"Hello\" );\n",
    "table.put( 12, \"Good noon\" );\n",
    "table.put( 8, \"Good Evening\" );\n",
    "\n",
    "Object[] obj = table.keySet().toArray();\n",
    "Arrays.sort(obj);\n",
    "for (Integer nKey : table.keySet()){\n",
    "    System.out.println(table.get(nKey));\n",
    "}"
   ]
  },
  {
   "cell_type": "code",
   "execution_count": 43,
   "metadata": {},
   "outputs": [
    {
     "data": {
      "text/plain": [
       "[7, 8, 12]"
      ]
     },
     "execution_count": 43,
     "metadata": {},
     "output_type": "execute_result"
    }
   ],
   "source": [
    "table.keySet()"
   ]
  },
  {
   "cell_type": "code",
   "execution_count": null,
   "metadata": {},
   "outputs": [],
   "source": []
  }
 ],
 "metadata": {
  "kernelspec": {
   "display_name": "Java",
   "language": "java",
   "name": "java"
  },
  "language_info": {
   "codemirror_mode": "java",
   "file_extension": ".jshell",
   "mimetype": "text/x-java-source",
   "name": "Java",
   "pygments_lexer": "java",
   "version": "15.0.1+9-18"
  }
 },
 "nbformat": 4,
 "nbformat_minor": 4
}
