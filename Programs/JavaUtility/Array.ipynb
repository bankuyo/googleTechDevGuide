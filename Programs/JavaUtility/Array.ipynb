{
 "cells": [
  {
   "cell_type": "markdown",
   "metadata": {},
   "source": [
    "# Array\n",
    "## Declaration :\n",
    "- \n",
    "#### Pattern1 : type[] variableName; => variablrName = new type[ num of element ]\n",
    "- \n",
    "#### Pattern2 : type[] variableName = new type[ number of element ];\n",
    "- \n",
    "#### Pattern3 : type variableName[] = {85, 78, 92, 62, 69};\n",
    "\n",
    "## Accessing data\n",
    "- \n",
    "#### exampleArr[index] => access to index th data\n",
    "\n",
    "## Main Method\n",
    "- **length** : get the length of array\n",
    "- **sort** : sort the element\n",
    "- **clone** : copy the array\n",
    "\n",
    "\n",
    "## Other utility\n",
    "- toString\n",
    "- asList\n"
   ]
  },
  {
   "cell_type": "markdown",
   "metadata": {},
   "source": [
    "***\n",
    "## Length"
   ]
  },
  {
   "cell_type": "code",
   "execution_count": 14,
   "metadata": {},
   "outputs": [
    {
     "name": "stdout",
     "output_type": "stream",
     "text": [
      "0\n",
      "0\n",
      "0\n",
      "0\n",
      "\n",
      "4\n",
      "32\n",
      "25\n",
      "0\n",
      "0\n"
     ]
    }
   ],
   "source": [
    "int[] arr;\n",
    "arr = new int[4];\n",
    "// Initilize is 0\n",
    "for (int i : arr) System.out.println(i);\n",
    "System.out.println();\n",
    "\n",
    "arr[0] = 32;\n",
    "arr[1] = 25;\n",
    "\n",
    "// Use length\n",
    "System.out.println(arr.length);\n",
    "for (int i = 0 ; i < arr.length ; i++) System.out.println(arr[i]);"
   ]
  },
  {
   "cell_type": "markdown",
   "metadata": {},
   "source": [
    "***\n",
    "## Sort\n",
    "- Arrays.sort( array variable )"
   ]
  },
  {
   "cell_type": "code",
   "execution_count": 17,
   "metadata": {},
   "outputs": [
    {
     "name": "stdout",
     "output_type": "stream",
     "text": [
      "32 53 21 33 54 \n",
      "21 32 33 53 54 "
     ]
    }
   ],
   "source": [
    "int test[] = {32, 53, 21, 33, 54};\n",
    "for (int i = 0 ; i < test.length ; i++)\n",
    "    System.out.print(test[i]+\" \");\n",
    "\n",
    "System.out.println();\n",
    "Arrays.sort(test);\n",
    "for (int i = 0 ; i < test.length ; i++)\n",
    "    System.out.print(test[i]+\" \");"
   ]
  },
  {
   "cell_type": "markdown",
   "metadata": {},
   "source": [
    "***\n",
    "## Clone"
   ]
  },
  {
   "cell_type": "code",
   "execution_count": 20,
   "metadata": {},
   "outputs": [
    {
     "name": "stdout",
     "output_type": "stream",
     "text": [
      "1 2 34 5 6 78 "
     ]
    }
   ],
   "source": [
    "int[] arr1 = {1,2,34,5,6,78};\n",
    "int[] arr2;\n",
    "\n",
    "arr2 = arr1.clone();\n",
    "for (int element : arr2)\n",
    "    System.out.print(element + \" \");"
   ]
  },
  {
   "cell_type": "markdown",
   "metadata": {},
   "source": [
    "## Other Utility"
   ]
  },
  {
   "cell_type": "code",
   "execution_count": 23,
   "metadata": {},
   "outputs": [
    {
     "data": {
      "text/plain": [
       "[1, 2, 34, 5, 6, 78]"
      ]
     },
     "execution_count": 23,
     "metadata": {},
     "output_type": "execute_result"
    }
   ],
   "source": [
    "// toString\n",
    "int[] arr1 = {1,2,34,5,6,78};\n",
    "Arrays.toString(arr1)"
   ]
  },
  {
   "cell_type": "code",
   "execution_count": 24,
   "metadata": {},
   "outputs": [
    {
     "data": {
      "text/plain": [
       "[[I@175a5408]"
      ]
     },
     "execution_count": 24,
     "metadata": {},
     "output_type": "execute_result"
    }
   ],
   "source": [
    "// asList\n",
    "int[] arr1 = {1,2,34,5,6,78};\n",
    "Arrays.asList(arr1);"
   ]
  },
  {
   "cell_type": "code",
   "execution_count": null,
   "metadata": {},
   "outputs": [],
   "source": []
  }
 ],
 "metadata": {
  "kernelspec": {
   "display_name": "Java",
   "language": "java",
   "name": "java"
  },
  "language_info": {
   "codemirror_mode": "java",
   "file_extension": ".jshell",
   "mimetype": "text/x-java-source",
   "name": "Java",
   "pygments_lexer": "java",
   "version": "15.0.1+9-18"
  }
 },
 "nbformat": 4,
 "nbformat_minor": 4
}
