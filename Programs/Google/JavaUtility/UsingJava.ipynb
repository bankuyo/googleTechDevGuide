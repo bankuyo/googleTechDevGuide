{
 "cells": [
  {
   "cell_type": "markdown",
   "metadata": {},
   "source": [
    "# Using String in Java\n",
    "#### Youtube\n",
    "- https://www.youtube.com/watch?v=0tDMZFyfNpY"
   ]
  },
  {
   "cell_type": "code",
   "execution_count": 12,
   "metadata": {},
   "outputs": [
    {
     "name": "stdout",
     "output_type": "stream",
     "text": [
      "Hello World\n"
     ]
    }
   ],
   "source": [
    "public class Main {\n",
    "    public static void main(){\n",
    "        System.out.println(\"Hello World\");\n",
    "    }\n",
    "}\n",
    "Main main=new Main();\n",
    "main.main()"
   ]
  },
  {
   "cell_type": "code",
   "execution_count": 11,
   "metadata": {},
   "outputs": [
    {
     "name": "stdout",
     "output_type": "stream",
     "text": [
      "Hello World\n"
     ]
    }
   ],
   "source": [
    "// Using String variables\n",
    "public class Main {\n",
    "    public static void main(){\n",
    "        String message=\"Hello World\";\n",
    "        System.out.println(message);\n",
    "    }\n",
    "}\n",
    "main=new Main();\n",
    "main.main()"
   ]
  },
  {
   "cell_type": "code",
   "execution_count": 23,
   "metadata": {},
   "outputs": [
    {
     "name": "stdout",
     "output_type": "stream",
     "text": [
      "Hello World This is my String course.\n",
      "HELLO WORLD THIS IS MY STRING COURSE.\n",
      "H3110 W0r1d\n"
     ]
    }
   ],
   "source": [
    "// Using Methods => concat & toUpperCase & replace\n",
    "public class Main {\n",
    "    public static void main(){\n",
    "        String message=\"Hello World\";\n",
    "        \n",
    "        // concat\n",
    "        message=message.concat(\" This is my String course.\");\n",
    "        System.out.println(message);\n",
    "        \n",
    "        // toUpperCase\n",
    "        message=message.toUpperCase();\n",
    "        System.out.println(message);\n",
    "        \n",
    "        //replace\n",
    "        message=\"Hello World\";\n",
    "        message=message.replace(\"o\",\"0\");\n",
    "        message=message.replace(\"l\",\"1\");\n",
    "        message=message.replace(\"e\",\"3\");\n",
    "        System.out.println(message);\n",
    "    }\n",
    "}\n",
    "main=new Main();\n",
    "main.main()"
   ]
  },
  {
   "cell_type": "code",
   "execution_count": 29,
   "metadata": {},
   "outputs": [
    {
     "name": "stdout",
     "output_type": "stream",
     "text": [
      "H\n",
      "e\n",
      "l\n",
      "l\n",
      "o\n",
      " \n",
      "W\n",
      "o\n",
      "r\n",
      "l\n",
      "d\n",
      "Hello World"
     ]
    }
   ],
   "source": [
    "// Separating in character and loop in for as iterater\n",
    "// Using toCharArray method\n",
    "public class Main {\n",
    "    public static void main(){\n",
    "        String message=\"Hello World\";\n",
    "        char[] characters=message.toCharArray();\n",
    "        \n",
    "        for (char c:characters){\n",
    "            System.out.println(c);\n",
    "        }\n",
    "        for (char c:characters){\n",
    "            System.out.print(c);\n",
    "        }\n",
    "    }\n",
    "}\n",
    "main=new Main();\n",
    "main.main()"
   ]
  },
  {
   "cell_type": "markdown",
   "metadata": {},
   "source": [
    "# Using Array in Java\n",
    "#### Youtube\n",
    "- https://www.youtube.com/watch?v=7J_W3Mxid0g"
   ]
  },
  {
   "cell_type": "code",
   "execution_count": 38,
   "metadata": {},
   "outputs": [
    {
     "name": "stdout",
     "output_type": "stream",
     "text": [
      "20\n",
      "17\n",
      "18\n",
      "19\n",
      "true\n",
      "false\n",
      "false\n",
      "true\n"
     ]
    }
   ],
   "source": [
    "// Using String variables\n",
    "public class Main {\n",
    "    public static void main(){\n",
    "        // One way to initialize arrays\n",
    "            int[] ages    = { 20, 17, 18, 19 };\n",
    "        \n",
    "        // Another way to initialize arrays\n",
    "        boolean[] student = new boolean[4];\n",
    "        student[0]=true;\n",
    "        student[1]=false;\n",
    "        student[2]=false;\n",
    "        student[3]=true;\n",
    "        \n",
    "        for(int i = 0; i < ages.length; i++){\n",
    "            System.out.println(ages[i]);\n",
    "        }\n",
    "        for(int i = 0; i < student.length; i++){\n",
    "            System.out.println(student[i]);\n",
    "        }      \n",
    "    }\n",
    "}\n",
    "main=new Main();\n",
    "main.main()"
   ]
  },
  {
   "cell_type": "markdown",
   "metadata": {},
   "source": [
    "# Excersice\n",
    "- https://codingbat.com/prob/p117334"
   ]
  },
  {
   "cell_type": "code",
   "execution_count": null,
   "metadata": {},
   "outputs": [],
   "source": [
    "// Example \n",
    "// stringSplosion(\"Code\") => CCoCodCode\n",
    "// stringSplosion(\"x\") => x\n",
    "// stringSplosion(\"Hello\") =>HHeHelHellHello "
   ]
  },
  {
   "cell_type": "code",
   "execution_count": 74,
   "metadata": {},
   "outputs": [
    {
     "data": {
      "text/plain": [
       "HHeHelHellHello"
      ]
     },
     "execution_count": 74,
     "metadata": {},
     "output_type": "execute_result"
    }
   ],
   "source": [
    "public class Main {\n",
    "    public static void main(){\n",
    "        System.out.println(\"Hello World\");\n",
    "    }\n",
    "    public String stringSplosion(String str) {\n",
    "        // Define word\n",
    "        String word=\"\";\n",
    "        // loop through the str : i\n",
    "        for (int i = 0 ; i <= str.length(); i++){\n",
    "            // word.concat <= str.slice(0,i)\n",
    "            word=word.concat(str.substring(0,i));\n",
    "        }\n",
    "        return word;\n",
    "    }\n",
    "\n",
    "}\n",
    "Main main=new Main();\n",
    "main.stringSplosion(\"Hello\")"
   ]
  }
 ],
 "metadata": {
  "kernelspec": {
   "display_name": "Java",
   "language": "java",
   "name": "java"
  },
  "language_info": {
   "codemirror_mode": "java",
   "file_extension": ".jshell",
   "mimetype": "text/x-java-source",
   "name": "Java",
   "pygments_lexer": "java",
   "version": "15.0.1+9-18"
  }
 },
 "nbformat": 4,
 "nbformat_minor": 4
}
