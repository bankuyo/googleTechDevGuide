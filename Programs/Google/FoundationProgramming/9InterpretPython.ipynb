{
 "cells": [
  {
   "cell_type": "markdown",
   "metadata": {},
   "source": [
    "# interpret Python\n",
    "- Write a simple interpreter which understands \"+\", \"-\", and \"*\" operations. Apply the operations in order using command/arg pairs starting with the initial value of `value`. If you encounter an unknown command, return -1. interpret(1, [\"+\"], [1]) → 2 interpret(4, [\"-\"], [2]) → 2 interpret(1, [\"+\", \"*\"], [1, 3]) → 6\n",
    "\n",
    "\n",
    "- interpret(1, ['+'], [1]) → 2\n",
    "- interpret(4, ['-'], [2]) → 2\n",
    "- interpret(1, ['+', '*'], [1, 3]) → 6"
   ]
  },
  {
   "cell_type": "markdown",
   "metadata": {},
   "source": [
    "## Same problem condition as Problem 8\n",
    "\n",
    "## Consideration\n",
    "- Checking invalid condition\n",
    "    - length of commands and args are different\n",
    "- Loop through the commands : i = 0 -> commands.length -1\n",
    "    - if      commands[i] == \"+\"\n",
    "        - value += args[i]\n",
    "    - else if commands[i] == \"-\"    \n",
    "        - value -= args[i]\n",
    "    - else if commands[i] == \"*\"    \n",
    "        - value *= args[i]\n",
    "    - else \n",
    "        - Return -1\n",
    "- Return value"
   ]
  },
  {
   "cell_type": "code",
   "execution_count": 14,
   "metadata": {},
   "outputs": [
    {
     "data": {
      "text/plain": [
       "-7"
      ]
     },
     "execution_count": 14,
     "metadata": {},
     "output_type": "execute_result"
    }
   ],
   "source": [
    "def interpret(value, commands, args):\n",
    "    if len(commands) != len(args) :\n",
    "        return -1\n",
    "    \n",
    "    for i in range(len(commands)) :\n",
    "        if   commands[i] == \"+\" :\n",
    "            value += args[i]\n",
    "        elif commands[i] == \"-\" :\n",
    "            value -= args[i]\n",
    "        elif commands[i] == \"*\" :\n",
    "            value *= args[i]\n",
    "        else :\n",
    "            print(commands[i])\n",
    "            return -1\n",
    "        \n",
    "    return value\n",
    "\n",
    "a = interpret(1,[\"+\",\"-\"],[1,9])\n",
    "a"
   ]
  },
  {
   "cell_type": "code",
   "execution_count": null,
   "metadata": {},
   "outputs": [],
   "source": []
  }
 ],
 "metadata": {
  "kernelspec": {
   "display_name": "Python 3",
   "language": "python",
   "name": "python3"
  },
  "language_info": {
   "codemirror_mode": {
    "name": "ipython",
    "version": 3
   },
   "file_extension": ".py",
   "mimetype": "text/x-python",
   "name": "python",
   "nbconvert_exporter": "python",
   "pygments_lexer": "ipython3",
   "version": "3.8.3"
  }
 },
 "nbformat": 4,
 "nbformat_minor": 4
}
