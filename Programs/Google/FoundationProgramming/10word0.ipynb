{
 "cells": [
  {
   "cell_type": "markdown",
   "metadata": {},
   "source": [
    "# Word0\n",
    "- https://codingbat.com/prob/p152303\n",
    "\n",
    "- Given an array of strings, return a Map<String, Integer> containing a key for every different string in the array, always with the value 0. For example the string \"hello\" makes the pair \"hello\":0. We'll do more complicated counting later, but for this problem the value is simply 0.\n",
    "\n",
    "\n",
    "- word0([\"a\", \"b\", \"a\", \"b\"]) → {\"a\": 0, \"b\": 0}\n",
    "- word0([\"a\", \"b\", \"a\", \"c\", \"b\"]) → {\"a\": 0, \"b\": 0, \"c\": 0}\n",
    "- word0([\"c\", \"b\", \"a\"]) → {\"a\": 0, \"b\": 0, \"c\": 0}"
   ]
  },
  {
   "cell_type": "markdown",
   "metadata": {},
   "source": [
    "## Overview\n",
    "- Problem : Set the key from array\n",
    "- Input : string array\n",
    "- Output : map set by key\n",
    "- Example :\n",
    "    - Input :\n",
    "        - [\"Hello\",\"Hell\",\"He\"]\n",
    "    - Output : \n",
    "        - Map key : value \n",
    "            - Hello : 0\n",
    "            - Hell : 0\n",
    "            - He : 0"
   ]
  },
  {
   "cell_type": "markdown",
   "metadata": {},
   "source": [
    "## Consideration\n",
    "- Create the map\n",
    "- Loop through the strings array : i = 0 -> strings.length -1\n",
    "    - if the key is not exist\n",
    "        - Insert"
   ]
  },
  {
   "cell_type": "code",
   "execution_count": 5,
   "metadata": {},
   "outputs": [],
   "source": [
    "public Map<String, Integer> word0(String[] strings) {\n",
    "    // Create Map : table\n",
    "    Map<String, Integer> table = new HashMap();\n",
    "    // Loop throgh the input array\n",
    "    for (int i = 0 ; i < strings.length ; i++) {\n",
    "        // if table doesn't exsit => set 0\n",
    "        if (!table.containsKey(strings[i])){\n",
    "            table.put(strings[i],0);\n",
    "        }\n",
    "    }\n",
    "    return table;\n",
    "}"
   ]
  },
  {
   "cell_type": "code",
   "execution_count": 11,
   "metadata": {},
   "outputs": [
    {
     "data": {
      "text/plain": [
       "{a=0, b=0, c=0}"
      ]
     },
     "execution_count": 11,
     "metadata": {},
     "output_type": "execute_result"
    }
   ],
   "source": [
    "String test[] = {\"a\",\"b\",\"c\",\"c\"};\n",
    "word0(test)"
   ]
  },
  {
   "cell_type": "code",
   "execution_count": null,
   "metadata": {},
   "outputs": [],
   "source": []
  }
 ],
 "metadata": {
  "kernelspec": {
   "display_name": "Java",
   "language": "java",
   "name": "java"
  },
  "language_info": {
   "codemirror_mode": "java",
   "file_extension": ".jshell",
   "mimetype": "text/x-java-source",
   "name": "Java",
   "pygments_lexer": "java",
   "version": "15.0.1+9-18"
  }
 },
 "nbformat": 4,
 "nbformat_minor": 4
}
