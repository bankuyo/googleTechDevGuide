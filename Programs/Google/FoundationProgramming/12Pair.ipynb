{
 "cells": [
  {
   "cell_type": "markdown",
   "metadata": {},
   "source": [
    "# Pair\n",
    "- https://codingbat.com/prob/p126332\n",
    "- Given an array of non-empty strings, create and return a Map<String, String> as follows: for each string add its first character as a key with its last character as the value.\n",
    "\n",
    "\n",
    "- pairs([\"code\", \"bug\"]) → {\"b\": \"g\", \"c\": \"e\"}\n",
    "- pairs([\"man\", \"moon\", \"main\"]) → {\"m\": \"n\"}\n",
    "- pairs([\"man\", \"moon\", \"good\", \"night\"]) → {\"g\": \"d\", \"m\": \"n\", \"n\": \"t\"}"
   ]
  },
  {
   "cell_type": "markdown",
   "metadata": {},
   "source": [
    "## Overview\n",
    "- Problem : Find the first and last word and set to table\n",
    "- Input : Strings array\n",
    "- Output : \n",
    "    - Map {key : value}\n",
    "        - {first word : last word}\n",
    "- Example :\n",
    "    - Input :\n",
    "        - [\"Here\",\"Hero\",\"Hipo\"]\n",
    "    - Output :\n",
    "        - Map {key : value}\n",
    "            - {\"H\" : \"o\"} **?**\n",
    "            - {\"H\" : \"e\"} **?**\n",
    "        - Here I write only one \n",
    "- Maybe invalid\n",
    "    - Strings length is 1"
   ]
  },
  {
   "cell_type": "markdown",
   "metadata": {},
   "source": [
    "## Consideration\n",
    "- Create the map : ansTable\n",
    "- Declare firstWord, lastWord;\n",
    "- Loop through the input array : i <- input array\n",
    "    - Set the firstWord and lastWord\n",
    "    - set the lastWord for value"
   ]
  },
  {
   "cell_type": "code",
   "execution_count": 30,
   "metadata": {},
   "outputs": [],
   "source": [
    "public Map<String, String> pairs(String[] strings) {\n",
    "    // Create Map\n",
    "    Map <String, String> ansTable = new HashMap();\n",
    "    \n",
    "    // Declare firstWord and lastWord\n",
    "    String firstWord, lastWord;\n",
    "    \n",
    "    // Loop through the strings\n",
    "    for (String str : strings){\n",
    "        // Set the firstWord and lastWord\n",
    "        firstWord = String.valueOf( str.charAt(0) );\n",
    "        lastWord  = String.valueOf( str.charAt(str.length()-1));\n",
    "        \n",
    "        // Set to ansTable\n",
    "        ansTable.put(firstWord,lastWord);\n",
    "    }\n",
    "    return ansTable;\n",
    "}"
   ]
  },
  {
   "cell_type": "code",
   "execution_count": 31,
   "metadata": {},
   "outputs": [
    {
     "data": {
      "text/plain": [
       "{E=O, H=E}"
      ]
     },
     "execution_count": 31,
     "metadata": {},
     "output_type": "execute_result"
    }
   ],
   "source": [
    "String test[] = {\"HEEEE\",\"EOO\"};\n",
    "pairs(test)"
   ]
  },
  {
   "cell_type": "code",
   "execution_count": 18,
   "metadata": {},
   "outputs": [
    {
     "data": {
      "text/plain": [
       "i"
      ]
     },
     "execution_count": 18,
     "metadata": {},
     "output_type": "execute_result"
    }
   ],
   "source": [
    "String str = \"Hi\";\n",
    "String.valueOf(str.charAt(str.length()-1));"
   ]
  },
  {
   "cell_type": "code",
   "execution_count": null,
   "metadata": {},
   "outputs": [],
   "source": []
  }
 ],
 "metadata": {
  "kernelspec": {
   "display_name": "Java",
   "language": "java",
   "name": "java"
  },
  "language_info": {
   "codemirror_mode": "java",
   "file_extension": ".jshell",
   "mimetype": "text/x-java-source",
   "name": "Java",
   "pygments_lexer": "java",
   "version": "15.0.1+9-18"
  }
 },
 "nbformat": 4,
 "nbformat_minor": 4
}
