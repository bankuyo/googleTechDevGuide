{
 "cells": [
  {
   "cell_type": "markdown",
   "metadata": {},
   "source": [
    "# sort\n",
    "- https://codingbat.com/prob/p262890\n",
    "- Return an array that contains the sorted values from the input array with duplicates removed.\n",
    "- Example\n",
    "    - sort([]) → []\n",
    "    - sort([1]) → [1]\n",
    "    - sort([1, 1]) → [1]"
   ]
  },
  {
   "cell_type": "markdown",
   "metadata": {},
   "source": [
    "## Consideration\n",
    "- Case judge\n",
    "    - if input array length == 0\n",
    "        - => return input arrray\n",
    "- Step 1 : sort the array\n",
    "- Step 2 : Loop through the array\n",
    "    - if the current element is not same as previous \n",
    "        - => push to answerArr\n",
    "\n",
    "#### Order\n",
    "- Sort : O (N log N )\n",
    "- Loop : O ( N )\n",
    "- => **O (N log N)**"
   ]
  },
  {
   "cell_type": "markdown",
   "metadata": {},
   "source": [
    "## My Answer\n",
    "- First add to queue\n",
    "    - Poll from queue and set to answerArr\n",
    "- To count the length of queue\n",
    "    - Use counter"
   ]
  },
  {
   "cell_type": "code",
   "execution_count": 37,
   "metadata": {},
   "outputs": [],
   "source": [
    "int[] sort(int[] a) {\n",
    "    // if a.length == 0\n",
    "    if (a.length == 0) return a;\n",
    "    \n",
    "    // Step1 : Sort array\n",
    "    Arrays.sort(a);\n",
    "    \n",
    "    // Define the queue and counter\n",
    "    Queue<Integer> queue = new ArrayDeque<>();\n",
    "    int counter = 1;\n",
    "    \n",
    "    // Define previousElement and add to queue\n",
    "    int previousElement = a[0];\n",
    "    queue.add(previousElement);\n",
    "    \n",
    "    // Step2 : Loop through the array\n",
    "    for (int i = 1; i < a.length ; i++){\n",
    "        if (previousElement != a[i]){\n",
    "            // add to queue\n",
    "            queue.add(a[i]);\n",
    "            previousElement = a[i];\n",
    "            counter++;\n",
    "        }\n",
    "    }\n",
    "    // Define answerArr \n",
    "    int[] answerArr = new int[counter];\n",
    "    \n",
    "    for (int i = 0 ; i < counter ; i++){\n",
    "        answerArr[i] = queue.poll();\n",
    "    }\n",
    "    return answerArr;\n",
    "}"
   ]
  },
  {
   "cell_type": "code",
   "execution_count": 41,
   "metadata": {},
   "outputs": [],
   "source": [
    "// Test\n",
    "int data[] = {1,1,3,3,2,24,6};\n",
    "int data[] = {};\n",
    "int result[] = sort(data);\n",
    "\n",
    "for (int i : result)\n",
    "    System.out.println(i);"
   ]
  },
  {
   "cell_type": "code",
   "execution_count": 12,
   "metadata": {},
   "outputs": [
    {
     "name": "stdout",
     "output_type": "stream",
     "text": [
      "1\n",
      "5\n",
      "32\n",
      "32\n",
      "42\n"
     ]
    }
   ],
   "source": [
    "// Memo\n",
    "int test[] = {1 ,42 ,32, 5 ,32};\n",
    "Arrays.sort(test);\n",
    "for (int i : test){\n",
    "    System.out.println(i);\n",
    "}"
   ]
  },
  {
   "cell_type": "code",
   "execution_count": 24,
   "metadata": {},
   "outputs": [
    {
     "data": {
      "text/plain": [
       "HE"
      ]
     },
     "execution_count": 24,
     "metadata": {},
     "output_type": "execute_result"
    }
   ],
   "source": [
    "// Memo2\n",
    "Queue<String> queue = new ArrayDeque<>();\n",
    "queue.add(\"HE\");\n",
    "queue.add(\"SHE\");\n",
    "queue.add(\"ME\");\n",
    "queue.poll()"
   ]
  },
  {
   "cell_type": "code",
   "execution_count": 30,
   "metadata": {},
   "outputs": [],
   "source": [
    "int[] answerArr = new int[4];"
   ]
  },
  {
   "cell_type": "code",
   "execution_count": null,
   "metadata": {},
   "outputs": [],
   "source": []
  }
 ],
 "metadata": {
  "kernelspec": {
   "display_name": "Java",
   "language": "java",
   "name": "java"
  },
  "language_info": {
   "codemirror_mode": "java",
   "file_extension": ".jshell",
   "mimetype": "text/x-java-source",
   "name": "Java",
   "pygments_lexer": "java",
   "version": "15.0.1+9-18"
  }
 },
 "nbformat": 4,
 "nbformat_minor": 4
}
