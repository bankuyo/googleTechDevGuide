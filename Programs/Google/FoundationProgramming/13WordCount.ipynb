{
 "cells": [
  {
   "cell_type": "markdown",
   "metadata": {},
   "source": [
    "# WordCount\n",
    "- https://codingbat.com/prob/p117630\n",
    "\n",
    "- The classic word-count algorithm: given an array of strings, return a Map<String, Integer> with a key for each different string, with the value the number of times that string appears in the array.\n",
    "\n",
    "\n",
    "- wordCount([\"a\", \"b\", \"a\", \"c\", \"b\"]) → {\"a\": 2, \"b\": 2, \"c\": 1}\n",
    "- wordCount([\"c\", \"b\", \"a\"]) → {\"a\": 1, \"b\": 1, \"c\": 1}\n",
    "- wordCount([\"c\", \"c\", \"c\", \"c\"]) → {\"c\": 4}"
   ]
  },
  {
   "cell_type": "markdown",
   "metadata": {},
   "source": [
    "## Overview\n",
    "- Problem : Count the strings appear from input array\n",
    "- Input : String array\n",
    "- Output : Map\n",
    "    - key : value\n",
    "        - unique string : number it appears\n",
    "- Example :\n",
    "    - Input :\n",
    "        - [\"he\", \"he\", \"he\", \"HELLO\"]\n",
    "    - Output : \n",
    "        - Map {key : value}\n",
    "            - he : 3\n",
    "            - HELLO : 1"
   ]
  },
  {
   "cell_type": "markdown",
   "metadata": {},
   "source": [
    "## Consideration\n",
    "- Create the map\n",
    "- Loop through the string array\n",
    "    - if map does contains the key\n",
    "        - increment the value of key\n",
    "    - otherwise \n",
    "        - set the length of key"
   ]
  },
  {
   "cell_type": "code",
   "execution_count": 4,
   "metadata": {},
   "outputs": [],
   "source": [
    "public Map<String, Integer> wordCount(String[] strings) {\n",
    "    // Create Map\n",
    "    Map <String, Integer> countStr = new HashMap();\n",
    "    // Create current value variable\n",
    "    int currentVal;\n",
    "    // Loop through the string array\n",
    "    for (String currentStr  : strings){\n",
    "        // if map[key] exist\n",
    "        if (countStr.containsKey(currentStr)){\n",
    "            // increment key\n",
    "            currentVal = countStr.get(currentStr)+1;\n",
    "            countStr.put(currentStr,currentVal);\n",
    "        }\n",
    "        // else\n",
    "        else{\n",
    "            // set 1\n",
    "            countStr.put(currentStr,1); \n",
    "        }\n",
    "    }\n",
    "    return countStr;\n",
    "}"
   ]
  },
  {
   "cell_type": "code",
   "execution_count": 5,
   "metadata": {},
   "outputs": [
    {
     "data": {
      "text/plain": [
       "{HOO=1, HE=2, He=1}"
      ]
     },
     "execution_count": 5,
     "metadata": {},
     "output_type": "execute_result"
    }
   ],
   "source": [
    "String test[] = {\"HE\",\"He\", \"HE\", \"HOO\"};\n",
    "wordCount(test)"
   ]
  },
  {
   "cell_type": "code",
   "execution_count": null,
   "metadata": {},
   "outputs": [],
   "source": []
  }
 ],
 "metadata": {
  "kernelspec": {
   "display_name": "Java",
   "language": "java",
   "name": "java"
  },
  "language_info": {
   "codemirror_mode": "java",
   "file_extension": ".jshell",
   "mimetype": "text/x-java-source",
   "name": "Java",
   "pygments_lexer": "java",
   "version": "15.0.1+9-18"
  }
 },
 "nbformat": 4,
 "nbformat_minor": 4
}
