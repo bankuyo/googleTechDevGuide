{
 "cells": [
  {
   "cell_type": "markdown",
   "metadata": {},
   "source": [
    "# Evenly Spaced\n",
    "- https://codingbat.com/prob/p198700\n",
    "- Given three ints, a b c, one of them is small, one is medium and one is large. Return true if the three values are evenly spaced, so the difference between small and medium is the same as the difference between medium and large.\n",
    "\n",
    "\n",
    "- evenlySpaced(2, 4, 6) → true\n",
    "- evenlySpaced(4, 6, 2) → true\n",
    "- evenlySpaced(4, 6, 3) → false"
   ]
  },
  {
   "cell_type": "markdown",
   "metadata": {},
   "source": [
    "## Overview\n",
    "- Problem : Seek to find medium number\n",
    "- Input : three numbers\n",
    "- Output : boolean\n",
    "    - Is them evenly spaced?\n",
    "- Example :\n",
    "    - Input :\n",
    "        - [1,1,1]\n",
    "    - Output : true"
   ]
  },
  {
   "cell_type": "markdown",
   "metadata": {},
   "source": [
    "## Consideration\n",
    "- input will be num1, num2, num3\n",
    "- Declare ave  = (num1 + num2 + num3) / 3\n",
    "- if one of the number is ave => true"
   ]
  },
  {
   "cell_type": "code",
   "execution_count": null,
   "metadata": {},
   "outputs": [],
   "source": [
    "// Memo\n",
    "0,3,9\n",
    "1,3,5\n",
    "2,5,8\n",
    "2,4,6\n",
    "1,2,4"
   ]
  },
  {
   "cell_type": "code",
   "execution_count": 8,
   "metadata": {},
   "outputs": [],
   "source": [
    "public boolean evenlySpaced(int a, int b, int c) {\n",
    "    int ave;\n",
    "    if (( a+b+c ) % 3 != 0) return false; // <- Is it need ? (1,2,4) => ave = 2\n",
    "    ave = ( a+b+c ) / 3;\n",
    "    if ( a == ave || b == ave || c == ave) return true;\n",
    "    return false;\n",
    "}"
   ]
  },
  {
   "cell_type": "code",
   "execution_count": 11,
   "metadata": {},
   "outputs": [
    {
     "name": "stdout",
     "output_type": "stream",
     "text": [
      "3\n"
     ]
    },
    {
     "data": {
      "text/plain": [
       "true"
      ]
     },
     "execution_count": 11,
     "metadata": {},
     "output_type": "execute_result"
    }
   ],
   "source": [
    "evenlySpaced(1,1,1)"
   ]
  },
  {
   "cell_type": "code",
   "execution_count": null,
   "metadata": {},
   "outputs": [],
   "source": []
  }
 ],
 "metadata": {
  "kernelspec": {
   "display_name": "Java",
   "language": "java",
   "name": "java"
  },
  "language_info": {
   "codemirror_mode": "java",
   "file_extension": ".jshell",
   "mimetype": "text/x-java-source",
   "name": "Java",
   "pygments_lexer": "java",
   "version": "15.0.1+9-18"
  }
 },
 "nbformat": 4,
 "nbformat_minor": 4
}
