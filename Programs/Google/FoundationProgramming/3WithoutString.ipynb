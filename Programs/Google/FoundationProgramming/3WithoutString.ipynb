{
 "cells": [
  {
   "cell_type": "markdown",
   "metadata": {},
   "source": [
    "***\n",
    "# Excersise3\n",
    "- https://codingbat.com/prob/p192570  \n",
    "\n",
    "## Problem\n",
    "Given two strings, base and remove, return a version of the base string where all instances of the remove string have been removed (not case sensitive).  \n",
    "You may assume that the remove string is length 1 or more.   \n",
    "Remove only non-overlapping instances, so with \"xxx\" removing \"xx\" leaves \"x\".\n",
    "\n",
    "## Example\n",
    "- withoutString(\"Hello there\", \"llo\") → \"He there\"\n",
    "- withoutString(\"Hello there\", \"e\") → \"Hllo thr\"\n",
    "- withoutString(\"Hello there\", \"x\") → \"Hello there\""
   ]
  },
  {
   "cell_type": "code",
   "execution_count": 3,
   "metadata": {},
   "outputs": [
    {
     "data": {
      "text/plain": [
       "Helo there"
      ]
     },
     "execution_count": 3,
     "metadata": {},
     "output_type": "execute_result"
    }
   ],
   "source": [
    "public class Main {\n",
    "    public String withoutString(String base, String remove) {\n",
    "        base=base.replace(remove,\"\");\n",
    "        base=base.replace(remove.toLowerCase(),\"\");\n",
    "        base=base.replace(remove.toUpperCase(),\"\");\n",
    "        return base;\n",
    "    }\n",
    "}\n",
    "Main main=new Main();\n",
    "main.withoutString(\"Helllo there\",\"ll\");"
   ]
  },
  {
   "cell_type": "code",
   "execution_count": null,
   "metadata": {},
   "outputs": [],
   "source": []
  }
 ],
 "metadata": {
  "kernelspec": {
   "display_name": "Java",
   "language": "java",
   "name": "java"
  },
  "language_info": {
   "codemirror_mode": "java",
   "file_extension": ".jshell",
   "mimetype": "text/x-java-source",
   "name": "Java",
   "pygments_lexer": "java",
   "version": "15.0.1+9-18"
  }
 },
 "nbformat": 4,
 "nbformat_minor": 4
}
