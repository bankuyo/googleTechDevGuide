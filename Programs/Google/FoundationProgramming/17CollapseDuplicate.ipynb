{
 "cells": [
  {
   "cell_type": "markdown",
   "metadata": {},
   "source": [
    "# collapseDuplicates\n",
    "\n",
    "- https://codingbat.com/prob/p256268  \n",
    "\n",
    "\n",
    "- Fix this duplicate collapsing code: public String collapseDuplicates(String a) { int i = 0; String result = \"\"; while (i < a.length()) { char ch = a.charAt(i); result += ch; while (a.charAt(i+1) == ch) { i++; } i++; } return result; }\n",
    "\n",
    "\n",
    "- collapseDuplicates(\"a\") → \"a\"\n",
    "- collapseDuplicates(\"aa\") → \"a\"\n",
    "- collapseDuplicates(\"abc\") → \"abc\"\n"
   ]
  },
  {
   "cell_type": "markdown",
   "metadata": {},
   "source": [
    "## Fixing code : Considering"
   ]
  },
  {
   "cell_type": "code",
   "execution_count": 1,
   "metadata": {},
   "outputs": [],
   "source": [
    "public String collapseDuplicates(String a) { \n",
    "    // Ok\n",
    "    int i = 0;\n",
    "    // Ok\n",
    "    String result = \"\"; \n",
    "    \n",
    "    while (i < a.length()) { \n",
    "        char ch = a.charAt(i);\n",
    "        result += ch; \n",
    "        // No : using i+1 must think about the last case\n",
    "        while (a.charAt(i+1) == ch) {\n",
    "            i++; \n",
    "        } \n",
    "        i++; \n",
    "    } \n",
    "    return result; \n",
    "}"
   ]
  },
  {
   "cell_type": "markdown",
   "metadata": {},
   "source": [
    "## Comment\n",
    "- Using 'i+1' => Must think about the last case\n",
    "- This case we don't have to use nested loop\n",
    "    - Loop only once \n",
    "        - if unique => set to map\n",
    "        - otherwise => skip"
   ]
  },
  {
   "cell_type": "markdown",
   "metadata": {},
   "source": [
    "## Fixed 1"
   ]
  },
  {
   "cell_type": "code",
   "execution_count": 23,
   "metadata": {},
   "outputs": [],
   "source": [
    "public String collapseDuplicates(String a) { \n",
    "    // Ok\n",
    "    int i = 0;\n",
    "    // Ok\n",
    "    String result = \"\"; \n",
    "    \n",
    "    while (i < a.length()) { \n",
    "        char ch = a.charAt(i);\n",
    "        result += ch; \n",
    "        // No : using i+1 must think about the last case\n",
    "        if (i == a.length()-1) break;\n",
    "        while (a.charAt(i+1) == ch) {\n",
    "            i++; \n",
    "            if (i == a.length()-1) break;\n",
    "        } \n",
    "        i++; \n",
    "    } \n",
    "    return result; \n",
    "}"
   ]
  },
  {
   "cell_type": "code",
   "execution_count": 27,
   "metadata": {},
   "outputs": [
    {
     "data": {
      "text/plain": [
       "a"
      ]
     },
     "execution_count": 27,
     "metadata": {},
     "output_type": "execute_result"
    }
   ],
   "source": [
    "collapseDuplicates(\"a\")"
   ]
  },
  {
   "cell_type": "markdown",
   "metadata": {},
   "source": [
    "## Fixed 2"
   ]
  },
  {
   "cell_type": "code",
   "execution_count": 38,
   "metadata": {},
   "outputs": [],
   "source": [
    "public String collapseDuplicates(String a) { \n",
    "    int i = 0;\n",
    "    String result = \"\"; \n",
    "    // Create Map : table\n",
    "    Map <Character, Boolean> table = new HashMap();\n",
    "    \n",
    "    while (i < a.length()) { \n",
    "        char ch = a.charAt(i);\n",
    "        // Check the table\n",
    "        if (table.containsKey(ch)){\n",
    "            i++;\n",
    "            continue;\n",
    "        }\n",
    "        result += ch; \n",
    "        // Clear the table\n",
    "        table.clear();\n",
    "        table.put(ch,true);\n",
    "        i++; \n",
    "    }\n",
    "    return result; \n",
    "}"
   ]
  },
  {
   "cell_type": "code",
   "execution_count": 40,
   "metadata": {},
   "outputs": [
    {
     "data": {
      "text/plain": [
       "abca"
      ]
     },
     "execution_count": 40,
     "metadata": {},
     "output_type": "execute_result"
    }
   ],
   "source": [
    "collapseDuplicates(\"aabca\")"
   ]
  },
  {
   "cell_type": "code",
   "execution_count": null,
   "metadata": {},
   "outputs": [],
   "source": []
  }
 ],
 "metadata": {
  "kernelspec": {
   "display_name": "Java",
   "language": "java",
   "name": "java"
  },
  "language_info": {
   "codemirror_mode": "java",
   "file_extension": ".jshell",
   "mimetype": "text/x-java-source",
   "name": "Java",
   "pygments_lexer": "java",
   "version": "15.0.1+9-18"
  }
 },
 "nbformat": 4,
 "nbformat_minor": 4
}
