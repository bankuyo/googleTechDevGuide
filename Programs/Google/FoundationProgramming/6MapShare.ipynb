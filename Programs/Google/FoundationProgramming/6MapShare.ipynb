{
 "cells": [
  {
   "cell_type": "markdown",
   "metadata": {},
   "source": [
    "***\n",
    "# Excersise 6\n",
    "- https://codingbat.com/prob/p148813\n",
    "\n",
    "## Problem\n",
    "Modify and return the given map as follows: if the key \"a\" has a value, set the key \"b\" to have that same value. In all cases remove the key \"c\", leaving the rest of the map unchanged.\n",
    "\n",
    "## Example\n",
    "- mapShare({\"a\": \"aaa\", \"b\": \"bbb\", \"c\": \"ccc\"}) → {\"a\": \"aaa\", \"b\": \"aaa\"}\n",
    "- mapShare({\"b\": \"xyz\", \"c\": \"ccc\"}) → {\"b\": \"xyz\"}\n",
    "- mapShare({\"a\": \"aaa\", \"c\": \"meh\", \"d\": \"hi\"}) → {\"a\": \"aaa\", \"b\": \"aaa\", \"d\": \"hi\"}"
   ]
  },
  {
   "cell_type": "markdown",
   "metadata": {},
   "source": [
    "## Consideration\n",
    "- Is there a key \"a\" ?\n",
    "    - Find the key \"b\"\n",
    "        - Exist => change the value same as the key \"a\"\n",
    "- Is there a key \"c\"\n",
    "    - Exsit => remove the key \"c\"\n",
    "\n",
    "## My Answer"
   ]
  },
  {
   "cell_type": "code",
   "execution_count": 12,
   "metadata": {},
   "outputs": [
    {
     "data": {
      "text/plain": [
       "{a=her, b=her}"
      ]
     },
     "execution_count": 12,
     "metadata": {},
     "output_type": "execute_result"
    }
   ],
   "source": [
    "public Map<String, String> mapShare(Map<String, String> map) {\n",
    "    if (map.containsKey(\"a\")){\n",
    "        map.put(\"b\",map.get(\"a\"));\n",
    "    }\n",
    "    map.remove(\"c\");\n",
    "    return map;\n",
    "}\n",
    "Map<String, String> map = new HashMap();\n",
    "map.put(\"a\",\"her\");\n",
    "map.put(\"b\",\"him\");\n",
    "map.put(\"c\",\"who\");\n",
    "mapShare(map)"
   ]
  },
  {
   "cell_type": "code",
   "execution_count": null,
   "metadata": {},
   "outputs": [],
   "source": []
  }
 ],
 "metadata": {
  "kernelspec": {
   "display_name": "Java",
   "language": "java",
   "name": "java"
  },
  "language_info": {
   "codemirror_mode": "java",
   "file_extension": ".jshell",
   "mimetype": "text/x-java-source",
   "name": "Java",
   "pygments_lexer": "java",
   "version": "15.0.1+9-18"
  }
 },
 "nbformat": 4,
 "nbformat_minor": 4
}
