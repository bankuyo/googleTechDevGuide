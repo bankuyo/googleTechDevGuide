{
 "cells": [
  {
   "cell_type": "markdown",
   "metadata": {},
   "source": [
    "# Excersise1\n",
    "- https://codingbat.com/prob/p117334"
   ]
  },
  {
   "cell_type": "code",
   "execution_count": 1,
   "metadata": {},
   "outputs": [],
   "source": [
    "// Example \n",
    "// stringSplosion(\"Code\") => CCoCodCode\n",
    "// stringSplosion(\"x\") => x\n",
    "// stringSplosion(\"Hello\") =>HHeHelHellHello "
   ]
  },
  {
   "cell_type": "code",
   "execution_count": 4,
   "metadata": {},
   "outputs": [
    {
     "data": {
      "text/plain": [
       "HHeHelHellHello"
      ]
     },
     "execution_count": 4,
     "metadata": {},
     "output_type": "execute_result"
    }
   ],
   "source": [
    "public class Main {\n",
    "    public static void main(){\n",
    "        System.out.println(\"Hello World\");\n",
    "    }\n",
    "    public String stringSplosion(String str) {\n",
    "        // Define word\n",
    "        String word=\"\";\n",
    "        // loop through the str : i\n",
    "        for (int i = 0 ; i <= str.length(); i++){\n",
    "            // word.concat <= str.slice(0,i)\n",
    "            word=word.concat(str.substring(0,i));\n",
    "        }\n",
    "        return word;\n",
    "    }\n",
    "\n",
    "}\n",
    "Main main=new Main();\n",
    "main.stringSplosion(\"Hello\")"
   ]
  },
  {
   "cell_type": "code",
   "execution_count": null,
   "metadata": {},
   "outputs": [],
   "source": []
  }
 ],
 "metadata": {
  "kernelspec": {
   "display_name": "Java",
   "language": "java",
   "name": "java"
  },
  "language_info": {
   "codemirror_mode": "java",
   "file_extension": ".jshell",
   "mimetype": "text/x-java-source",
   "name": "Java",
   "pygments_lexer": "java",
   "version": "15.0.1+9-18"
  }
 },
 "nbformat": 4,
 "nbformat_minor": 4
}
