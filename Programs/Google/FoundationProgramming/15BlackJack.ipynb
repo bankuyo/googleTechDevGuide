{
 "cells": [
  {
   "cell_type": "markdown",
   "metadata": {},
   "source": [
    "#  Black Jack\n",
    "- https://codingbat.com/prob/p117019\n",
    "- Given 2 int values greater than 0, return whichever value is nearest to 21 without going over. Return 0 if they both go over.\n",
    "\n",
    "\n",
    "- blackjack(19, 21) -> 21\n",
    "- blackjack(21, 19) -> 21\n",
    "- blackjack(19, 22) -> 19\n",
    "- blackjack(21, 21) -> 21"
   ]
  },
  {
   "cell_type": "markdown",
   "metadata": {},
   "source": [
    "## Overview\n",
    "- Problem : Pick the number which is nearest to 21 and less or qual to 21\n",
    "- Input : Two integers \n",
    "- Output : integer\n",
    "    - Near to 21 and less or equal to 21\n",
    "- Example :\n",
    "    - Input :\n",
    "        - 19 , 22\n",
    "    - Output :\n",
    "        - 19"
   ]
  },
  {
   "cell_type": "markdown",
   "metadata": {},
   "source": [
    "## Consideration\n",
    "- Let input be num1 and num2\n",
    "- Checking num1\n",
    "    - Over 21?\n",
    "        - Yes => set anwer to be 0 => Go to num2 step\n",
    "        - No => set answer to be num1 => Go to num2 step\n",
    "- Checking num2\n",
    "    - Over 21?\n",
    "        - Yes => return answer\n",
    "        - No => anwer = Max(answer,num2) => return answer"
   ]
  },
  {
   "cell_type": "code",
   "execution_count": 3,
   "metadata": {},
   "outputs": [],
   "source": [
    "public int blackjack(int a, int b) {\n",
    "    // Declare the answer\n",
    "    int answer = 0;\n",
    "    \n",
    "    // Checking a\n",
    "    if (a <= 21) answer = a;\n",
    "    \n",
    "    //Checking b\n",
    "    if (b <= 21) answer = Math.max(answer,b);\n",
    "    \n",
    "    return answer;\n",
    "}\n"
   ]
  },
  {
   "cell_type": "markdown",
   "metadata": {},
   "source": [
    "## Example"
   ]
  },
  {
   "cell_type": "code",
   "execution_count": 9,
   "metadata": {},
   "outputs": [
    {
     "data": {
      "text/plain": [
       "0"
      ]
     },
     "execution_count": 9,
     "metadata": {},
     "output_type": "execute_result"
    }
   ],
   "source": [
    "blackjack(22,22);"
   ]
  },
  {
   "cell_type": "code",
   "execution_count": 10,
   "metadata": {},
   "outputs": [
    {
     "data": {
      "text/plain": [
       "21"
      ]
     },
     "execution_count": 10,
     "metadata": {},
     "output_type": "execute_result"
    }
   ],
   "source": [
    "blackjack(19,21)"
   ]
  },
  {
   "cell_type": "code",
   "execution_count": 11,
   "metadata": {},
   "outputs": [
    {
     "data": {
      "text/plain": [
       "20"
      ]
     },
     "execution_count": 11,
     "metadata": {},
     "output_type": "execute_result"
    }
   ],
   "source": [
    "blackjack(19,20);"
   ]
  },
  {
   "cell_type": "code",
   "execution_count": 13,
   "metadata": {},
   "outputs": [
    {
     "data": {
      "text/plain": [
       "19"
      ]
     },
     "execution_count": 13,
     "metadata": {},
     "output_type": "execute_result"
    }
   ],
   "source": [
    "blackjack(19,19);"
   ]
  }
 ],
 "metadata": {
  "kernelspec": {
   "display_name": "Java",
   "language": "java",
   "name": "java"
  },
  "language_info": {
   "codemirror_mode": "java",
   "file_extension": ".jshell",
   "mimetype": "text/x-java-source",
   "name": "Java",
   "pygments_lexer": "java",
   "version": "15.0.1+9-18"
  }
 },
 "nbformat": 4,
 "nbformat_minor": 4
}
