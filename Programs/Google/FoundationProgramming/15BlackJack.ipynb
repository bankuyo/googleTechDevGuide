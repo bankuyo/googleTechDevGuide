{
 "cells": [
  {
   "cell_type": "markdown",
   "metadata": {},
   "source": [
    "#  Black Jack\n",
    "- https://codingbat.com/prob/p117019\n",
    "- Given 2 int values greater than 0, return whichever value is nearest to 21 without going over. Return 0 if they both go over.\n",
    "\n",
    "\n",
    "- blackjack(19, 21) → 21\n",
    "- blackjack(21, 19) → 21\n",
    "- blackjack(19, 22) → 19"
   ]
  },
  {
   "cell_type": "code",
   "execution_count": 2,
   "metadata": {},
   "outputs": [],
   "source": [
    "public int blackjack(int a, int b) {\n",
    "    if (a > b && a <= 21)  return a;\n",
    "    if (b <= 21 && a > 21) return b;\n",
    "    \n",
    "    if (a < b && b <= 21) return b;\n",
    "    if (a <=21 && b > 21) return a;\n",
    "    return 0;\n",
    "}\n"
   ]
  },
  {
   "cell_type": "code",
   "execution_count": null,
   "metadata": {},
   "outputs": [],
   "source": []
  }
 ],
 "metadata": {
  "kernelspec": {
   "display_name": "Java",
   "language": "java",
   "name": "java"
  },
  "language_info": {
   "codemirror_mode": "java",
   "file_extension": ".jshell",
   "mimetype": "text/x-java-source",
   "name": "Java",
   "pygments_lexer": "java",
   "version": "15.0.1+9-18"
  }
 },
 "nbformat": 4,
 "nbformat_minor": 4
}
