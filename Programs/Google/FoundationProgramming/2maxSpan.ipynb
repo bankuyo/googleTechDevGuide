{
 "cells": [
  {
   "cell_type": "markdown",
   "metadata": {},
   "source": [
    "# Excersise2\n",
    "- https://codingbat.com/prob/p189576\n",
    "\n",
    "## Problem\n",
    "\n",
    "Consider the leftmost and righmost appearances of some value in an array.  \n",
    "We'll say that the \"span\" is the number of elements between the two inclusive.  \n",
    "A single value has a span of 1.  \n",
    "Returns the largest span found in the given array. (Efficiency is not a priority.)\n",
    "\n",
    "## Example\n",
    "- maxSpan([1, 2, 1, 1, 3]) → 4\n",
    "- maxSpan([1, 4, 2, 1, 4, 1, 4]) → 6\n",
    "- maxSpan([1, 4, 2, 1, 4, 4, 4]) → 6"
   ]
  },
  {
   "cell_type": "code",
   "execution_count": 1,
   "metadata": {},
   "outputs": [
    {
     "name": "stdout",
     "output_type": "stream",
     "text": [
      "{1=0, 2=2, 4=1}{1=7, 2=8, 4=9}"
     ]
    },
    {
     "data": {
      "text/plain": [
       "9"
      ]
     },
     "execution_count": 1,
     "metadata": {},
     "output_type": "execute_result"
    }
   ],
   "source": [
    "public class Main {\n",
    "    public static void main(){\n",
    "        System.out.println(\"Hello World\");\n",
    "    }\n",
    "    public int maxSpan(int[] nums) {\n",
    "        // Make table for start point\n",
    "        HashMap<Integer,Integer> start = new HashMap<Integer,Integer>();\n",
    "        // Make table for end point <- update\n",
    "        HashMap<Integer,Integer> end = new HashMap<Integer,Integer>();\n",
    "        // Define maxNum\n",
    "        int maxNum=nums[0];\n",
    "        // Define max\n",
    "        int max=0;\n",
    "        // loop through the array\n",
    "        for (int i = 0 ; i < nums.length ; i++){\n",
    "            if (! start.containsKey(nums[i])){\n",
    "                start.put(nums[i],i);\n",
    "                end.put(nums[i],i);\n",
    "            }else{\n",
    "                end.put(nums[i],i);\n",
    "            }\n",
    "        }\n",
    "        int span;\n",
    "        for (int i = 0; i < nums.length; i++){\n",
    "            span=end.get(nums[i])-start.get(nums[i])+1;\n",
    "                if(max<span){\n",
    "                    max=span;\n",
    "                }\n",
    "        }\n",
    "        System.out.print(start);\n",
    "        System.out.print(end);\n",
    "        return max;\n",
    "    }\n",
    "\n",
    "}\n",
    "Main main=new Main();\n",
    "int[] data={1, 4, 2, 1, 4, 1, 4,1,2,4};\n",
    "main.maxSpan(data);"
   ]
  },
  {
   "cell_type": "code",
   "execution_count": null,
   "metadata": {},
   "outputs": [],
   "source": []
  }
 ],
 "metadata": {
  "kernelspec": {
   "display_name": "Java",
   "language": "java",
   "name": "java"
  },
  "language_info": {
   "codemirror_mode": "java",
   "file_extension": ".jshell",
   "mimetype": "text/x-java-source",
   "name": "Java",
   "pygments_lexer": "java",
   "version": "15.0.1+9-18"
  }
 },
 "nbformat": 4,
 "nbformat_minor": 4
}
