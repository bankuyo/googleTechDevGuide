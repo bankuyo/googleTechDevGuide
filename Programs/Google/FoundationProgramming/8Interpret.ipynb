{
 "cells": [
  {
   "cell_type": "markdown",
   "metadata": {},
   "source": [
    "# interpret\n",
    "- https://codingbat.com/prob/p294185\n",
    "\n",
    "## Problem\n",
    "- Write a simple interpreter which understands \"+\", \"-\", and \"*\" operations. Apply the operations in order using command/arg pairs starting with the initial value of `value`. If you encounter an unknown command, return -1.\n",
    "\n",
    "## Example\n",
    "- interpret(1, [\"+\"], [1]) -> 2\n",
    "- interpret(4, [\"-\"], [2]) -> 2\n",
    "- interpret(1, [\"+\", \"*\"], [1, 3]) -> 6\n",
    "- interpret(1, [\"/\", \"+\"], [1, 4]) -> -1\n",
    "- interpret(1, [\"+\"], [1, 3] ) -> -1\n",
    "- interpret(1, [\"*\", \"+\"], [2]) -> -1"
   ]
  },
  {
   "cell_type": "markdown",
   "metadata": {},
   "source": [
    "## Overview\n",
    "- Problem : Calculate the input number\n",
    "- Input :\n",
    "    - number : value ( int )\n",
    "    - operators : commands ( String[] )\n",
    "    - arguments : args ( int[] )\n",
    "- Output :\n",
    "    - Calculated number ( int )\n",
    "    - Invalid : -1\n",
    "- Invalide :\n",
    "    - The length of commands and args are not same\n",
    "    - The operators has　ohter operator than [\"+\",\"-\",\"*\"]\n",
    "- Example :\n",
    "    - interpret(0, [\"*\",\"-\"], [1243,17]) -> -17\n",
    "    - interpret(1, [\"/\", \"+\"], [1, 4]) -> -1\n",
    "    - interpret(1, [\"+\"], [1, 3] ) -> -1\n",
    "    - interpret(1, [\"*\", \"+\"], [2]) -> -1"
   ]
  },
  {
   "cell_type": "markdown",
   "metadata": {},
   "source": [
    "## Consideration\n",
    "- Checking invalid condition\n",
    "    - length of commands and args are different\n",
    "- Loop through the commands : i = 0 -> commands.length -1\n",
    "    - if      commands[i] == \"+\"\n",
    "        - value += args[i]\n",
    "    - else if commands[i] == \"-\"    \n",
    "        - value -= args[i]\n",
    "    - else if commands[i] == \"*\"    \n",
    "        - value *= args[i]\n",
    "    - else \n",
    "        - Return -1\n",
    "- Return value"
   ]
  },
  {
   "cell_type": "code",
   "execution_count": 2,
   "metadata": {},
   "outputs": [],
   "source": [
    "public int interpret(int value, String[] commands, int[] args) {\n",
    "    // Checking condition\n",
    "    if (commands.length != args.length) return -1;\n",
    "    \n",
    "    // Loop\n",
    "    for (int i = 0 ; i < commands.length ; i++){\n",
    "        // What is the current command\n",
    "        if      (commands[i] == \"+\") value += args[i];\n",
    "        else if (commands[i] == \"-\") value -= args[i];\n",
    "        else if (commands[i] == \"*\") value *= args[i];\n",
    "        else {\n",
    "            return -1;\n",
    "        }\n",
    "    }\n",
    "    return value;\n",
    "}\n"
   ]
  },
  {
   "cell_type": "code",
   "execution_count": 10,
   "metadata": {},
   "outputs": [
    {
     "data": {
      "text/plain": [
       "-17"
      ]
     },
     "execution_count": 10,
     "metadata": {},
     "output_type": "execute_result"
    }
   ],
   "source": [
    "String[] commands = {\"*\",\"-\"};\n",
    "int[] args = {1243, 17};\n",
    "interpret( 0, commands, args )"
   ]
  },
  {
   "cell_type": "code",
   "execution_count": null,
   "metadata": {},
   "outputs": [],
   "source": []
  }
 ],
 "metadata": {
  "kernelspec": {
   "display_name": "Java",
   "language": "java",
   "name": "java"
  },
  "language_info": {
   "codemirror_mode": "java",
   "file_extension": ".jshell",
   "mimetype": "text/x-java-source",
   "name": "Java",
   "pygments_lexer": "java",
   "version": "15.0.1+9-18"
  }
 },
 "nbformat": 4,
 "nbformat_minor": 4
}
