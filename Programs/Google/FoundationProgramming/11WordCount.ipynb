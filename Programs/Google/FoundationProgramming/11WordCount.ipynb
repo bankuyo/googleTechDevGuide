{
 "cells": [
  {
   "cell_type": "markdown",
   "metadata": {},
   "source": [
    "# WordLen\n",
    "- https://codingbat.com/prob/p125327\n",
    "\n",
    "- Given an array of strings, return a Map<String, Integer> containing a key for every different string in the array, and the value is that string's length.\n",
    "\n",
    "\n",
    "- wordLen([\"a\", \"bb\", \"a\", \"bb\"]) → {\"bb\": 2, \"a\": 1}\n",
    "- wordLen([\"this\", \"and\", \"that\", \"and\"]) → {\"that\": 4, \"and\": 3, \"this\": 4}\n",
    "- wordLen([\"code\", \"code\", \"code\", \"bug\"]) → {\"code\": 4, \"bug\": 3}"
   ]
  },
  {
   "cell_type": "markdown",
   "metadata": {},
   "source": [
    "## Overview\n",
    "- Problem : Count the length of the strings appear from input array\n",
    "- Input : String array\n",
    "- Output : Map\n",
    "    - key : value\n",
    "        - unique string : length of string\n",
    "- Example :\n",
    "    - Input :\n",
    "        - [\"he\", \"he\", \"he\", \"HELLO\"]\n",
    "    - Output : \n",
    "        - Map {key : value}\n",
    "            - he : 2\n",
    "            - HELLO : 5"
   ]
  },
  {
   "cell_type": "markdown",
   "metadata": {},
   "source": [
    "## Consideration\n",
    "- Create the map\n",
    "- Loop through the string array\n",
    "    - if map doesn't contains the key\n",
    "        - increment the value of key\n",
    "    - otherwise \n",
    "        - count the length of string"
   ]
  },
  {
   "cell_type": "code",
   "execution_count": 1,
   "metadata": {},
   "outputs": [],
   "source": [
    "public Map<String, Integer> wordLen(String[] strings) {\n",
    "    // Create Map\n",
    "    Map <String, Integer> countStr = new HashMap();\n",
    "\n",
    "    // Loop through the string array\n",
    "    for (String currentStr  : strings){\n",
    "        // if map[key] exist\n",
    "        if (!countStr.containsKey(currentStr)){\n",
    "            countStr.put(currentStr,currentStr.length());\n",
    "        }\n",
    "    }\n",
    "    return countStr;\n",
    "}"
   ]
  },
  {
   "cell_type": "code",
   "execution_count": 2,
   "metadata": {},
   "outputs": [
    {
     "data": {
      "text/plain": [
       "{HOO=3, HE=2, He=2}"
      ]
     },
     "execution_count": 2,
     "metadata": {},
     "output_type": "execute_result"
    }
   ],
   "source": [
    "String test[] = {\"HE\",\"He\", \"HE\", \"HOO\"};\n",
    "wordLen(test)"
   ]
  },
  {
   "cell_type": "code",
   "execution_count": null,
   "metadata": {},
   "outputs": [],
   "source": [
    "for (String i : test){\n",
    "    System.out.println(i.length());\n",
    "}"
   ]
  },
  {
   "cell_type": "code",
   "execution_count": null,
   "metadata": {},
   "outputs": [],
   "source": []
  }
 ],
 "metadata": {
  "kernelspec": {
   "display_name": "Java",
   "language": "java",
   "name": "java"
  },
  "language_info": {
   "codemirror_mode": "java",
   "file_extension": ".jshell",
   "mimetype": "text/x-java-source",
   "name": "Java",
   "pygments_lexer": "java",
   "version": "15.0.1+9-18"
  }
 },
 "nbformat": 4,
 "nbformat_minor": 4
}
