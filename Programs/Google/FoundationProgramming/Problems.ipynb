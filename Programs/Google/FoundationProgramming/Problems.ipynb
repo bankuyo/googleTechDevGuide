{
 "cells": [
  {
   "cell_type": "markdown",
   "metadata": {},
   "source": [
    "# Excersise1\n",
    "- https://codingbat.com/prob/p117334"
   ]
  },
  {
   "cell_type": "code",
   "execution_count": 1,
   "metadata": {},
   "outputs": [],
   "source": [
    "// Example \n",
    "// stringSplosion(\"Code\") => CCoCodCode\n",
    "// stringSplosion(\"x\") => x\n",
    "// stringSplosion(\"Hello\") =>HHeHelHellHello "
   ]
  },
  {
   "cell_type": "code",
   "execution_count": 2,
   "metadata": {},
   "outputs": [
    {
     "data": {
      "text/plain": [
       "HHeHelHellHello"
      ]
     },
     "execution_count": 2,
     "metadata": {},
     "output_type": "execute_result"
    }
   ],
   "source": [
    "public class Main {\n",
    "    public static void main(){\n",
    "        System.out.println(\"Hello World\");\n",
    "    }\n",
    "    public String stringSplosion(String str) {\n",
    "        // Define word\n",
    "        String word=\"\";\n",
    "        // loop through the str : i\n",
    "        for (int i = 0 ; i <= str.length(); i++){\n",
    "            // word.concat <= str.slice(0,i)\n",
    "            word=word.concat(str.substring(0,i));\n",
    "        }\n",
    "        return word;\n",
    "    }\n",
    "\n",
    "}\n",
    "Main main=new Main();\n",
    "main.stringSplosion(\"Hello\")"
   ]
  },
  {
   "cell_type": "markdown",
   "metadata": {},
   "source": [
    "***\n",
    "# Excersise2\n",
    "- https://codingbat.com/prob/p189576\n",
    "\n",
    "## Problem\n",
    "\n",
    "Consider the leftmost and righmost appearances of some value in an array.  \n",
    "We'll say that the \"span\" is the number of elements between the two inclusive.  \n",
    "A single value has a span of 1.  \n",
    "Returns the largest span found in the given array. (Efficiency is not a priority.)\n",
    "\n",
    "## Example\n",
    "- maxSpan([1, 2, 1, 1, 3]) → 4\n",
    "- maxSpan([1, 4, 2, 1, 4, 1, 4]) → 6\n",
    "- maxSpan([1, 4, 2, 1, 4, 4, 4]) → 6"
   ]
  },
  {
   "cell_type": "code",
   "execution_count": 3,
   "metadata": {},
   "outputs": [
    {
     "name": "stdout",
     "output_type": "stream",
     "text": [
      "{1=0, 2=2, 4=1}{1=7, 2=8, 4=9}"
     ]
    },
    {
     "data": {
      "text/plain": [
       "9"
      ]
     },
     "execution_count": 3,
     "metadata": {},
     "output_type": "execute_result"
    }
   ],
   "source": [
    "public class Main {\n",
    "    public static void main(){\n",
    "        System.out.println(\"Hello World\");\n",
    "    }\n",
    "    public int maxSpan(int[] nums) {\n",
    "        // Make table for start point\n",
    "        HashMap<Integer,Integer> start = new HashMap<Integer,Integer>();\n",
    "        // Make table for end point <- update\n",
    "        HashMap<Integer,Integer> end = new HashMap<Integer,Integer>();\n",
    "        // Define maxNum\n",
    "        int maxNum=nums[0];\n",
    "        // Define max\n",
    "        int max=0;\n",
    "        // loop through the array\n",
    "        for (int i = 0 ; i < nums.length ; i++){\n",
    "            if (! start.containsKey(nums[i])){\n",
    "                start.put(nums[i],i);\n",
    "                end.put(nums[i],i);\n",
    "            }else{\n",
    "                end.put(nums[i],i);\n",
    "            }\n",
    "        }\n",
    "        int span;\n",
    "        for (int i = 0; i < nums.length; i++){\n",
    "            span=end.get(nums[i])-start.get(nums[i])+1;\n",
    "                if(max<span){\n",
    "                    max=span;\n",
    "                }\n",
    "        }\n",
    "        System.out.print(start);\n",
    "        System.out.print(end);\n",
    "        return max;\n",
    "    }\n",
    "\n",
    "}\n",
    "Main main=new Main();\n",
    "int[] data={1, 4, 2, 1, 4, 1, 4,1,2,4};\n",
    "main.maxSpan(data);"
   ]
  },
  {
   "cell_type": "markdown",
   "metadata": {},
   "source": [
    "***\n",
    "# Excersise3\n",
    "- https://codingbat.com/prob/p192570  \n",
    "\n",
    "## Problem\n",
    "Given two strings, base and remove, return a version of the base string where all instances of the remove string have been removed (not case sensitive).  \n",
    "You may assume that the remove string is length 1 or more.   \n",
    "Remove only non-overlapping instances, so with \"xxx\" removing \"xx\" leaves \"x\".\n",
    "\n",
    "## Example\n",
    "- withoutString(\"Hello there\", \"llo\") → \"He there\"\n",
    "- withoutString(\"Hello there\", \"e\") → \"Hllo thr\"\n",
    "- withoutString(\"Hello there\", \"x\") → \"Hello there\""
   ]
  },
  {
   "cell_type": "code",
   "execution_count": 4,
   "metadata": {},
   "outputs": [
    {
     "data": {
      "text/plain": [
       "He there"
      ]
     },
     "execution_count": 4,
     "metadata": {},
     "output_type": "execute_result"
    }
   ],
   "source": [
    "public class Main {\n",
    "    public String withoutString(String base, String remove) {\n",
    "        base=base.replace(remove,\"\");\n",
    "        base=base.replace(remove.toLowerCase(),\"\");\n",
    "        base=base.replace(remove.toUpperCase(),\"\");\n",
    "        return base;\n",
    "    }\n",
    "}\n",
    "Main main=new Main();\n",
    "main.withoutString(\"Hello there\",\"llo\");"
   ]
  },
  {
   "cell_type": "markdown",
   "metadata": {},
   "source": [
    "***\n",
    "# Execersise 4\n",
    "- https://codingbat.com/prob/p121193\n",
    "\n",
    "## Problem\n",
    "Given a string, return the sum of the numbers appearing in the string, ignoring all other characters.   \n",
    "A number is a series of 1 or more digit chars in a row.  \n",
    "(Note: Character.isDigit(char) tests if a char is one of the chars '0', '1', .. '9'.  \n",
    "Integer.parseInt(string) converts a string to an int.)\n",
    "\n",
    "## Example\n",
    "- sumNumbers(\"abc123xyz\") → 123\n",
    "- sumNumbers(\"aa11b33\") → 44\n",
    "- sumNumbers(\"7 11\") → 18"
   ]
  },
  {
   "cell_type": "code",
   "execution_count": 19,
   "metadata": {},
   "outputs": [
    {
     "data": {
      "text/plain": [
       "193"
      ]
     },
     "execution_count": 19,
     "metadata": {},
     "output_type": "execute_result"
    }
   ],
   "source": [
    "public class Main {\n",
    "    public int sumNumbers(String str) {\n",
    "        // treat for loop\n",
    "        str=str+\"e\";\n",
    "        // make str charArray\n",
    "        char[] charArray = str.toCharArray();\n",
    "        // make pointer1 : p1\n",
    "        int p1 = 0;\n",
    "        // define sum =0\n",
    "        int sum = 0;\n",
    "        // define num =\"\"\n",
    "        String num=\"\";\n",
    "        // isNum = false\n",
    "        boolean isNum = false;\n",
    "        // while (p1<str.length)\n",
    "        while (p1<str.length()){\n",
    "            // if (charArray[p1] is digit)\n",
    "            if (Character.isDigit(charArray[p1])){\n",
    "                // if (isNum)\n",
    "                if (isNum){\n",
    "                    // append to num\n",
    "                    num += String.valueOf(charArray[p1]);\n",
    "                }else {\n",
    "                    // set isNum = true\n",
    "                    isNum=true;\n",
    "                    num= String.valueOf(charArray[p1]);\n",
    "                }\n",
    "                // increment p1\n",
    "                p1++;\n",
    "                // conrtinue\n",
    "                continue;\n",
    "            }else{\n",
    "            // else \n",
    "                // if (isNum)\n",
    "                if (isNum){\n",
    "                    // isNum=false\n",
    "                    isNum=false;\n",
    "                    // sum += num to integer\n",
    "                    sum+=Integer.parseInt(num);\n",
    "                    // num =\"\"\n",
    "                    num=\"\";\n",
    "                }\n",
    "                // increment p1\n",
    "                p1++;\n",
    "            }\n",
    "        }\n",
    "        // return sum\n",
    "        return sum;\n",
    "    }\n",
    "\n",
    "}\n",
    "Main main=new Main();\n",
    "main.sumNumbers(\"Hello53there140\");"
   ]
  },
  {
   "cell_type": "code",
   "execution_count": 1,
   "metadata": {},
   "outputs": [
    {
     "data": {
      "text/plain": [
       "193"
      ]
     },
     "execution_count": 1,
     "metadata": {},
     "output_type": "execute_result"
    }
   ],
   "source": [
    "public class Main {\n",
    "    public int sumNumbers(String str) {\n",
    "        str=str+\"e\";\n",
    "        char[] charArray = str.toCharArray();\n",
    "        int p1 = 0;\n",
    "        int sum = 0;\n",
    "        String num=\"\";\n",
    "        boolean isNum = false;\n",
    "        while (p1<str.length()){\n",
    "            if (Character.isDigit(charArray[p1])){\n",
    "                if (isNum){\n",
    "                    num += String.valueOf(charArray[p1]);\n",
    "                }else {\n",
    "                    isNum=true;\n",
    "                    num= String.valueOf(charArray[p1]);\n",
    "                }\n",
    "                p1++;\n",
    "                continue;\n",
    "            }else{\n",
    "                if (isNum){\n",
    "                    isNum=false;\n",
    "                    sum+=Integer.parseInt(num);\n",
    "                    num=\"\";\n",
    "                }\n",
    "                p1++;\n",
    "            }\n",
    "        }\n",
    "        return sum;\n",
    "    }\n",
    "}\n",
    "Main main=new Main();\n",
    "main.sumNumbers(\"Hello53there140\");"
   ]
  },
  {
   "cell_type": "markdown",
   "metadata": {},
   "source": [
    "***\n",
    "# Excersise 5\n",
    "- https://codingbat.com/prob/p158767\n",
    "\n",
    "## Problem\n",
    "Given a non-empty array, return true if there is a place to split the array so that the sum of the numbers on one side is equal to the sum of the numbers on the other side.\n",
    "\n",
    "## Example\n",
    "- canBalance([1, 1, 1, 2, 1]) → true\n",
    "- canBalance([2, 1, 1, 2, 1]) → false\n",
    "- canBalance([10, 10]) → true"
   ]
  },
  {
   "cell_type": "code",
   "execution_count": 82,
   "metadata": {},
   "outputs": [
    {
     "name": "stdout",
     "output_type": "stream",
     "text": [
      "true\n",
      "false\n",
      "true\n"
     ]
    }
   ],
   "source": [
    "public class Main {\n",
    "    public boolean canBalance(int[] nums) {\n",
    "        // pointer from left  : left = 0\n",
    "        int left  = 0;\n",
    "        // pointer from right : right = nums.length - 1\n",
    "        int right = nums.length - 1;\n",
    "        // sum variable for left  : sumLeft  = nums[left]\n",
    "        int sumLeft  = nums[left];\n",
    "        // sum variable for right : sumRight = nums[right]\n",
    "        int sumRight = nums[right];\n",
    "        // While left < right\n",
    "        while (left <= right){\n",
    "            // if (sumLeft < sumRight)\n",
    "            if (sumLeft < sumRight){\n",
    "                // move left to right\n",
    "                left++;\n",
    "                if (left == right){\n",
    "                    break;\n",
    "                }\n",
    "                // add element to sumLeft\n",
    "                sumLeft += nums[left];\n",
    "            }else{\n",
    "            // else\n",
    "                // right to left\n",
    "                right--;\n",
    "                if (left == right){\n",
    "                    break;\n",
    "                }\n",
    "                // add element to sumRight\n",
    "                sumRight += nums[right];\n",
    "            }\n",
    "        }\n",
    "        // return true;\n",
    "        if (sumRight==sumLeft){\n",
    "            return true;\n",
    "        }else{\n",
    "            return false;\n",
    "        }\n",
    "    }\n",
    "}\n",
    "Main main=new Main();\n",
    "int[] data={1, 1, 1, 2, 1};\n",
    "System.out.println(main.canBalance(data));\n",
    "int[] data2={2, 1, 1, 2, 1};\n",
    "System.out.println(main.canBalance(data2));\n",
    "int[] data3={10,10};\n",
    "System.out.println(main.canBalance(data3));"
   ]
  },
  {
   "cell_type": "code",
   "execution_count": 79,
   "metadata": {},
   "outputs": [
    {
     "data": {
      "text/plain": [
       "false"
      ]
     },
     "execution_count": 79,
     "metadata": {},
     "output_type": "execute_result"
    }
   ],
   "source": [
    "public class Main {\n",
    "    public boolean canBalance(int[] nums) {\n",
    "        int left  = 0;\n",
    "        int right = nums.length - 1;\n",
    "        int sumLeft  = nums[left];\n",
    "        int sumRight = nums[right];\n",
    "        while (left < right){\n",
    "            if (sumLeft < sumRight){\n",
    "                left++;\n",
    "                if (left == right){\n",
    "                    break;\n",
    "                }\n",
    "                sumLeft += nums[left];\n",
    "            }else{\n",
    "                right--;\n",
    "                if (left == right){\n",
    "                    break;\n",
    "                }\n",
    "                sumRight += nums[right];\n",
    "            }\n",
    "        }\n",
    "        if (sumRight==sumLeft){\n",
    "            return true;\n",
    "        }else{\n",
    "            return false;\n",
    "        }\n",
    "    }\n",
    "}\n",
    "Main main=new Main();\n",
    "int[] data={2, 1, 1, 2, 1};\n",
    "main.canBalance(data);"
   ]
  },
  {
   "cell_type": "markdown",
   "metadata": {},
   "source": [
    "***\n",
    "# Excersise 6\n",
    "- https://codingbat.com/prob/p148813\n",
    "\n",
    "## Problem\n",
    "Modify and return the given map as follows: if the key \"a\" has a value, set the key \"b\" to have that same value. In all cases remove the key \"c\", leaving the rest of the map unchanged.\n",
    "\n",
    "## Example\n",
    "- mapShare({\"a\": \"aaa\", \"b\": \"bbb\", \"c\": \"ccc\"}) → {\"a\": \"aaa\", \"b\": \"aaa\"}\n",
    "- mapShare({\"b\": \"xyz\", \"c\": \"ccc\"}) → {\"b\": \"xyz\"}\n",
    "- mapShare({\"a\": \"aaa\", \"c\": \"meh\", \"d\": \"hi\"}) → {\"a\": \"aaa\", \"b\": \"aaa\", \"d\": \"hi\"}"
   ]
  },
  {
   "cell_type": "code",
   "execution_count": null,
   "metadata": {},
   "outputs": [],
   "source": []
  },
  {
   "cell_type": "code",
   "execution_count": 3,
   "metadata": {},
   "outputs": [
    {
     "ename": "CompilationException",
     "evalue": "",
     "output_type": "error",
     "traceback": [
      "\u001b[1m\u001b[30m|   \u001b[1m\u001b[30mpublic class Main\u001b[0m\u001b[1m\u001b[30m\u001b[41m\u001b[0m\u001b[1m\u001b[30m(){\u001b[0m",
      "\u001b[1m\u001b[31m'{' expected\u001b[0m",
      "",
      "\u001b[1m\u001b[30m|   \u001b[1m\u001b[30m        return \u001b[0m\u001b[1m\u001b[30m\u001b[41m\u001b[0m\u001b[1m\u001b[30m{\"a\": \"aaa\", \"b\": \"bbb\", \"c\": \"ccc\"};\u001b[0m",
      "\u001b[1m\u001b[31millegal start of expression\u001b[0m",
      "",
      "\u001b[1m\u001b[30m|   \u001b[1m\u001b[30m        return {\u001b[0m\u001b[1m\u001b[30m\u001b[41m\"a\"\u001b[0m\u001b[1m\u001b[30m: \"aaa\", \"b\": \"bbb\", \"c\": \"ccc\"};\u001b[0m",
      "\u001b[1m\u001b[31mnot a statement\u001b[0m",
      "",
      "\u001b[1m\u001b[30m|   \u001b[1m\u001b[30m        return {\"a\"\u001b[0m\u001b[1m\u001b[30m\u001b[41m\u001b[0m\u001b[1m\u001b[30m: \"aaa\", \"b\": \"bbb\", \"c\": \"ccc\"};\u001b[0m",
      "\u001b[1m\u001b[31m';' expected\u001b[0m",
      ""
     ]
    }
   ],
   "source": [
    "public class Main(){\n",
    "    public Map<String, String> mapShare(Map<String, String> map) {\n",
    "        return {\"a\": \"aaa\", \"b\": \"bbb\", \"c\": \"ccc\"};\n",
    "    }\n",
    "}\n",
    "Main main=new Main();\n",
    "map data={\"a\": \"aaa\", \"b\": \"bbb\", \"c\": \"ccc\"};\n",
    "main.mapShare(data);"
   ]
  },
  {
   "cell_type": "code",
   "execution_count": null,
   "metadata": {},
   "outputs": [],
   "source": []
  }
 ],
 "metadata": {
  "kernelspec": {
   "display_name": "Java",
   "language": "java",
   "name": "java"
  },
  "language_info": {
   "codemirror_mode": "java",
   "file_extension": ".jshell",
   "mimetype": "text/x-java-source",
   "name": "Java",
   "pygments_lexer": "java",
   "version": "15.0.1+9-18"
  }
 },
 "nbformat": 4,
 "nbformat_minor": 4
}
