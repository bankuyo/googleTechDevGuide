{
 "cells": [
  {
   "cell_type": "markdown",
   "metadata": {},
   "source": [
    "***\n",
    "# Excersise 5\n",
    "- https://codingbat.com/prob/p158767\n",
    "\n",
    "## Problem\n",
    "Given a non-empty array, return true if there is a place to split the array so that the sum of the numbers on one side is equal to the sum of the numbers on the other side.\n",
    "\n",
    "## Example\n",
    "- canBalance([1, 1, 1, 2, 1]) → true\n",
    "- canBalance([2, 1, 1, 2, 1]) → false\n",
    "- canBalance([10, 10]) → true"
   ]
  },
  {
   "cell_type": "code",
   "execution_count": 1,
   "metadata": {},
   "outputs": [
    {
     "name": "stdout",
     "output_type": "stream",
     "text": [
      "true\n",
      "false\n",
      "true\n"
     ]
    }
   ],
   "source": [
    "public class Main {\n",
    "    public boolean canBalance(int[] nums) {\n",
    "        // pointer from left  : left = 0\n",
    "        int left  = 0;\n",
    "        // pointer from right : right = nums.length - 1\n",
    "        int right = nums.length - 1;\n",
    "        // sum variable for left  : sumLeft  = nums[left]\n",
    "        int sumLeft  = nums[left];\n",
    "        // sum variable for right : sumRight = nums[right]\n",
    "        int sumRight = nums[right];\n",
    "        // While left < right\n",
    "        while (left <= right){\n",
    "            // if (sumLeft < sumRight)\n",
    "            if (sumLeft < sumRight){\n",
    "                // move left to right\n",
    "                left++;\n",
    "                if (left == right){\n",
    "                    break;\n",
    "                }\n",
    "                // add element to sumLeft\n",
    "                sumLeft += nums[left];\n",
    "            }else{\n",
    "            // else\n",
    "                // right to left\n",
    "                right--;\n",
    "                if (left == right){\n",
    "                    break;\n",
    "                }\n",
    "                // add element to sumRight\n",
    "                sumRight += nums[right];\n",
    "            }\n",
    "        }\n",
    "        // return true;\n",
    "        if (sumRight==sumLeft){\n",
    "            return true;\n",
    "        }else{\n",
    "            return false;\n",
    "        }\n",
    "    }\n",
    "}\n",
    "Main main=new Main();\n",
    "int[] data={1, 1, 1, 2, 1};\n",
    "System.out.println(main.canBalance(data));\n",
    "int[] data2={2, 1, 1, 2, 1};\n",
    "System.out.println(main.canBalance(data2));\n",
    "int[] data3={10,10};\n",
    "System.out.println(main.canBalance(data3));"
   ]
  }
 ],
 "metadata": {
  "kernelspec": {
   "display_name": "Java",
   "language": "java",
   "name": "java"
  },
  "language_info": {
   "codemirror_mode": "java",
   "file_extension": ".jshell",
   "mimetype": "text/x-java-source",
   "name": "Java",
   "pygments_lexer": "java",
   "version": "15.0.1+9-18"
  }
 },
 "nbformat": 4,
 "nbformat_minor": 4
}
