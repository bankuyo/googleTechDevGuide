{
 "cells": [
  {
   "cell_type": "markdown",
   "metadata": {},
   "source": [
    "# encoder\n",
    "- https://codingbat.com/prob/p238573\n",
    "\n",
    "- Write a function that replaces the words in `raw` with the words in `code_words` such that the first occurrence of each word in `raw` is assigned the first unassigned word in `code_words`.\n",
    "\n",
    "\n",
    "- encoder([\"a\"], [\"1\", \"2\", \"3\", \"4\"]) → [\"1\"]\n",
    "- encoder([\"a\", \"b\"], [\"1\", \"2\", \"3\", \"4\"]) → [\"1\", \"2\"]\n",
    "- encoder([\"a\", \"b\", \"a\"], [\"1\", \"2\", \"3\", \"4\"]) → [\"1\", \"2\", \"1\"]"
   ]
  },
  {
   "cell_type": "markdown",
   "metadata": {},
   "source": [
    "## Overview\n",
    "- Problem : translate the string to number(string)\n",
    "- Input\n",
    "    - raw : string array\n",
    "    - code_words : number(string) array\n",
    "- Output :\n",
    "    - string array : encoded raw string by code_words\n",
    "- Example :\n",
    "    - Input :\n",
    "        - raw : [\"a\",\"b\",\"a\",\"c\"]\n",
    "        - code_words : [\"0\",\"1\",\"10\",\"11\"]\n",
    "    - Output :\n",
    "        - [\"0\",\"1\",\"0\",\"10\"]\n",
    "\n",
    "### Caution\n",
    "- Invalid :\n",
    "    - The number of unique string is larger than the number of code_words"
   ]
  },
  {
   "cell_type": "markdown",
   "metadata": {},
   "source": [
    "## Consideration\n",
    "- Create the string array for output : encoded\n",
    "- Create the pointer for code_words : pointer\n",
    "- Create map for cache the string : cache\n",
    "\n",
    "- Loop throught the raw : i = 0 -> raw.length - 1\n",
    "    - if cache has the currentStr key\n",
    "        - encoded[i] =  value of key(raw[i])\n",
    "    - otherwise\n",
    "        - encoded[i] = code_words[pointer]\n",
    "        - Cache the {raw[i] : code}\n",
    "        -  Increment pointer\n",
    "\n",
    "- Return encoded"
   ]
  },
  {
   "cell_type": "code",
   "execution_count": 15,
   "metadata": {},
   "outputs": [],
   "source": [
    "public String[] encoder(String[] raw, String[] code_words) {\n",
    "    // Declare encoded\n",
    "    String encoded[] = new String[raw.length];\n",
    "    // Declare pointer\n",
    "    int pointer = 0;\n",
    "    // Create cache\n",
    "    Map <String, String> cache = new HashMap();\n",
    "    \n",
    "    // Loop throught the raw\n",
    "    for (int i = 0 ; i < raw.length ; i++){\n",
    "        // Check from cache\n",
    "        if (cache.containsKey(raw[i])){\n",
    "            encoded[i] = cache.get(raw[i]);\n",
    "        }else{\n",
    "            // Check the invalide\n",
    "            if (pointer == code_words.length) return null;\n",
    "                \n",
    "            // set encoded\n",
    "            encoded[i] = code_words[pointer];\n",
    "            // Cache to cache\n",
    "            cache.put(raw[i],encoded[i]);\n",
    "            // increment pointer\n",
    "            pointer++;\n",
    "        }\n",
    "    }\n",
    "    return encoded;\n",
    "}\n"
   ]
  },
  {
   "cell_type": "code",
   "execution_count": 22,
   "metadata": {},
   "outputs": [
    {
     "name": "stdout",
     "output_type": "stream",
     "text": [
      "0\n",
      "1\n",
      "0\n",
      "10\n"
     ]
    }
   ],
   "source": [
    "String test[] = {\"a\",\"b\",\"a\",\"c\"};\n",
    "String code_words[] = {\"0\",\"1\",\"10\",\"11\"};\n",
    "String encoded[] = encoder(test,code_words);\n",
    "\n",
    "for (String str : encoded) System.out.println(str);"
   ]
  }
 ],
 "metadata": {
  "kernelspec": {
   "display_name": "Java",
   "language": "java",
   "name": "java"
  },
  "language_info": {
   "codemirror_mode": "java",
   "file_extension": ".jshell",
   "mimetype": "text/x-java-source",
   "name": "Java",
   "pygments_lexer": "java",
   "version": "15.0.1+9-18"
  }
 },
 "nbformat": 4,
 "nbformat_minor": 4
}
