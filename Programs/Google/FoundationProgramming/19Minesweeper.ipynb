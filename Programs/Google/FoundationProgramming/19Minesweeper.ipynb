{
 "cells": [
  {
   "cell_type": "markdown",
   "metadata": {},
   "source": [
    "# Minesweeper\n",
    "- Done at 2020/12/25(Thu)17:30 ~ 19:30\n",
    "- Making Game => 11:30 ~ 1:30\n",
    "- https://techdevguide.withgoogle.com/paths/foundational/coding-question-minesweeper/#!\n",
    "- Please write functions to construct the playing field given the size and number of mines.\n",
    "\n",
    "## Expression\n",
    "#### Mine : **9**\n",
    "***\n",
    "# Overview\n",
    "- Problem : Place the mine and numbering the surround matrix\n",
    "- Input :\n",
    "    - field size : Integer\n",
    "        - row : The number of row to construct\n",
    "        - column : The number of column to construct\n",
    "    - mine : Integer\n",
    "        - The number of mine we place in field\n",
    "- Output : Array<Integer>\n",
    "    - field : field of minesweeper"
   ]
  },
  {
   "cell_type": "markdown",
   "metadata": {},
   "source": [
    "# Example\n",
    "<1>\n",
    "- Input :\n",
    "    fieldsize :\n",
    "        - row : 5\n",
    "        - column : 5\n",
    "    mine : 2\n",
    "- Output (One answer)"
   ]
  },
  {
   "cell_type": "code",
   "execution_count": null,
   "metadata": {},
   "outputs": [],
   "source": [
    "0 0 0 1 1 \n",
    "0 0 0 1 9\n",
    "0 1 1 2 1 \n",
    "0 1 9 1 0 \n",
    "0 1 1 1 0 "
   ]
  },
  {
   "cell_type": "markdown",
   "metadata": {},
   "source": [
    "<2>\n",
    "- Input :\n",
    "    fieldsize :\n",
    "        - row : 7\n",
    "        - column : 5\n",
    "    mine : 2\n",
    "- Output (One answer)"
   ]
  },
  {
   "cell_type": "code",
   "execution_count": null,
   "metadata": {},
   "outputs": [],
   "source": [
    "0  0  0  0  0\n",
    "0  0  0  0  0\n",
    "1  1  1  0  0\n",
    "1  9  1  0  0\n",
    "1  2  2  1  0\n",
    "0  1  9  1  0\n",
    "0  1  1  1  0"
   ]
  },
  {
   "cell_type": "markdown",
   "metadata": {},
   "source": [
    "# Consideration\n",
    "#### Step 1) Create the field\n",
    "- field : array[row][column]\n",
    "\n",
    "#### Step 2) Set the mine\n",
    "- Loop for mine times\n",
    "    - Generate two random number \n",
    "        - randRow1: 0 ~ row-1  \n",
    "        - randCol2: 0 ~ column-1\n",
    "    - If mine is already set (table[{randRow, randCol}])\n",
    "        - Make another random number <= We need to do efficient way to calculate\n",
    "            - Take from unallocated place? (name candidate)\n",
    "                - candidate will be one dimentinal array\n",
    "    - Otherwise\n",
    "        - Set to table\n",
    "        - Set the field[randRow][randCol] to be 9 \n",
    "        \n",
    "#### Step 3) Place the number to field\n",
    "- Loop until every mine is passed\n",
    "    - Take the place of mine from the table \n",
    "    - Increment the number of filed around the mine\n",
    "\n",
    "#### Step4) Return the field\n",
    "***"
   ]
  },
  {
   "cell_type": "markdown",
   "metadata": {},
   "source": [
    "# My Answer\n",
    "## Step0 : Input Data\n",
    "- If numMine > row * column => set to max"
   ]
  },
  {
   "cell_type": "code",
   "execution_count": 1,
   "metadata": {},
   "outputs": [
    {
     "name": "stdin",
     "output_type": "stream",
     "text": [
      " 5 5 2\n"
     ]
    },
    {
     "name": "stdout",
     "output_type": "stream",
     "text": [
      "row     = 5\n",
      "column  = 5\n",
      "numMine = 2\n"
     ]
    }
   ],
   "source": [
    "// Data input\n",
    "import java.util.Scanner;\n",
    "Scanner scanner = new Scanner(System.in);\n",
    "\n",
    "int row     = scanner.nextInt();\n",
    "int column  = scanner.nextInt();\n",
    "int numMine = scanner.nextInt();\n",
    "\n",
    "if (numMine > row * column) numMine = row*column;\n",
    "\n",
    "scanner.close();\n",
    "\n",
    "System.out.println(\"row     = \"+row);\n",
    "System.out.println(\"column  = \"+column);\n",
    "System.out.println(\"numMine = \"+numMine);"
   ]
  },
  {
   "cell_type": "markdown",
   "metadata": {},
   "source": [
    "## Step1 : Create field"
   ]
  },
  {
   "cell_type": "code",
   "execution_count": 3,
   "metadata": {},
   "outputs": [
    {
     "name": "stdout",
     "output_type": "stream",
     "text": [
      "0 0 0 0 0 \n",
      "0 0 0 0 0 \n",
      "0 0 0 0 0 \n",
      "0 0 0 0 0 \n",
      "0 0 0 0 0 \n"
     ]
    }
   ],
   "source": [
    "int field[][] = new int[row][column];\n",
    "\n",
    "// Memo\n",
    "for (int i = 0 ; i < row ; i++){\n",
    "    for (int j = 0 ; j < column ; j++){\n",
    "        System.out.print(field[i][j] + \" \");\n",
    "    }\n",
    "    System.out.println();\n",
    "}"
   ]
  },
  {
   "cell_type": "markdown",
   "metadata": {},
   "source": [
    "## Step2 : Set the mine\n",
    "- First make simply\n",
    "- After we make the complete program\n",
    "\n",
    "### (i) Simple : Set the constant number\n",
    "- Assume \n",
    "    - row = 5\n",
    "    - column = 5\n",
    "    - numMine = 2\n",
    "- What we need?\n",
    "    - Two different pair number\n",
    "    - => We can push the pair to table (for flexibility)"
   ]
  },
  {
   "cell_type": "code",
   "execution_count": 30,
   "metadata": {},
   "outputs": [],
   "source": [
    "// Create the pair class (Most simplest)\n",
    "public class Pair<X,Y>{\n",
    "    public final X first;\n",
    "    public final Y second;\n",
    "    // Constructor\n",
    "    public Pair(X first , Y second){\n",
    "        this.first  = first;\n",
    "        this.second = second;\n",
    "    }\n",
    "    @Override\n",
    "    public boolean equals(Object obj){\n",
    "        if (!(obj instanceof Pair)) return false;\n",
    "        Pair<X, Y> p = (Pair<X, Y>) obj;\n",
    "        return (first == p.first) && (second == p.second);\n",
    "    }\n",
    "    @Override\n",
    "    public int hashCode() {\n",
    "        return Objects.hash(first, second);\n",
    "    }\n",
    "}"
   ]
  },
  {
   "cell_type": "code",
   "execution_count": 5,
   "metadata": {},
   "outputs": [
    {
     "data": {
      "text/plain": [
       "true"
      ]
     },
     "execution_count": 5,
     "metadata": {},
     "output_type": "execute_result"
    }
   ],
   "source": [
    "// Memo\n",
    "Pair<Integer,Integer> pair1 = new Pair<Integer,Integer>(2,3);\n",
    "Pair<Integer,Integer> pair2 = new Pair<Integer,Integer>(2,3);\n",
    "pair1.equals(pair2);"
   ]
  },
  {
   "cell_type": "code",
   "execution_count": 6,
   "metadata": {},
   "outputs": [
    {
     "name": "stdout",
     "output_type": "stream",
     "text": [
      "3, 2\n",
      "1, 4\n"
     ]
    }
   ],
   "source": [
    "// Create table\n",
    "Map<Pair<Integer,Integer>, Boolean> table = new HashMap();\n",
    "\n",
    "// Create the instance of Pair\n",
    "Pair<Integer,Integer> pair1 = new Pair<Integer,Integer>(1,4);\n",
    "Pair<Integer,Integer> pair2 = new Pair<Integer,Integer>(3,2);\n",
    "\n",
    "// Insert two pairs\n",
    "table.put(pair1,true);\n",
    "table.put(pair2,true);\n",
    "\n",
    "// Check the table key\n",
    "for (Pair<Integer,Integer> pair : table.keySet()){\n",
    "    System.out.println(pair.first + \", \" + pair.second );\n",
    "}"
   ]
  },
  {
   "cell_type": "code",
   "execution_count": 7,
   "metadata": {},
   "outputs": [
    {
     "name": "stdout",
     "output_type": "stream",
     "text": [
      "0 0 0 0 0 \n",
      "0 0 0 0 9 \n",
      "0 0 0 0 0 \n",
      "0 0 9 0 0 \n",
      "0 0 0 0 0 \n"
     ]
    }
   ],
   "source": [
    "// Place the mine in field\n",
    "for (Pair<Integer,Integer> pair : table.keySet()){\n",
    "    field[pair.first][pair.second] = 9;\n",
    "}\n",
    "\n",
    "// Check \n",
    "for (int i = 0 ; i < row ; i++){\n",
    "    for (int j = 0 ; j < column ; j++){\n",
    "        System.out.print(field[i][j] + \" \");\n",
    "    }\n",
    "    System.out.println();\n",
    "}"
   ]
  },
  {
   "cell_type": "markdown",
   "metadata": {},
   "source": [
    "# Step 3 : Place the number\n",
    "- Loop until every mine is passed\n",
    "    - Take the place of mine from the table \n",
    "    - Increment the number of filed around the mine"
   ]
  },
  {
   "cell_type": "code",
   "execution_count": 10,
   "metadata": {},
   "outputs": [],
   "source": [
    "int arroundX[] = { 1, 1,  1, 0,  0, -1, -1, -1 };\n",
    "int arroundY[] = { 1, 0, -1, 1, -1,  1,  0, -1 };\n",
    "// Loop through the table.keySet()\n",
    "for (Pair<Integer,Integer> pair : table.keySet() ){\n",
    "    // Increment arround the mine\n",
    "    for (int i = 0 ; i < arroundX.length ; i++){\n",
    "        \n",
    "        // Don't get out of the range\n",
    "        if  (((pair.second + arroundX[i] >= 0) && (pair.second + arroundX[i] < column)) &&\n",
    "             ((pair.first  + arroundY[i] >= 0) && (pair.first  + arroundY[i] < row   ))){\n",
    "            \n",
    "            // if the place is mine => don't increment\n",
    "            if (field[pair.first + arroundY[i]][pair.second + arroundX[i]] != 9){\n",
    "                // Increment\n",
    "                field[pair.first + arroundY[i]][pair.second + arroundX[i]] += 1 ;\n",
    "            }\n",
    "        }\n",
    "    }\n",
    "}"
   ]
  },
  {
   "cell_type": "code",
   "execution_count": 11,
   "metadata": {},
   "outputs": [
    {
     "name": "stdout",
     "output_type": "stream",
     "text": [
      "0 0 0 1 1 \n",
      "0 0 0 1 9 \n",
      "0 1 1 2 1 \n",
      "0 1 9 1 0 \n",
      "0 1 1 1 0 \n"
     ]
    }
   ],
   "source": [
    "for (int i = 0 ; i < row ; i++){\n",
    "    for (int j = 0 ; j < column ; j++){\n",
    "        System.out.print(field[i][j] + \" \");\n",
    "    }\n",
    "    System.out.println();\n",
    "}"
   ]
  },
  {
   "cell_type": "markdown",
   "metadata": {},
   "source": [
    "***\n",
    "# Combine at one (First time)"
   ]
  },
  {
   "cell_type": "code",
   "execution_count": 12,
   "metadata": {},
   "outputs": [
    {
     "name": "stdout",
     "output_type": "stream",
     "text": [
      "3, 2\n",
      "1, 4\n",
      "0 0 0 1 1 \n",
      "0 0 0 1 9 \n",
      "0 1 1 2 1 \n",
      "0 1 9 1 0 \n",
      "0 1 1 1 0 \n"
     ]
    }
   ],
   "source": [
    "int field[][] = new int[row][column];\n",
    "\n",
    "// Create table\n",
    "Map<Pair<Integer,Integer>, Boolean> table = new HashMap();\n",
    "\n",
    "// Create the instance of Pair\n",
    "Pair<Integer,Integer> pair1 = new Pair<Integer,Integer>(1,4);\n",
    "Pair<Integer,Integer> pair2 = new Pair<Integer,Integer>(3,2);\n",
    "\n",
    "// Insert two pairs\n",
    "table.put(pair1,true);\n",
    "table.put(pair2,true);\n",
    "\n",
    "// Check the table key\n",
    "for (Pair<Integer,Integer> pair : table.keySet()){\n",
    "    System.out.println(pair.first + \", \" + pair.second );\n",
    "}\n",
    "\n",
    "for (Pair<Integer,Integer> pair : table.keySet()){\n",
    "    field[pair.first][pair.second] = 9;\n",
    "}\n",
    "\n",
    "int arroundX[] = { 1, 1,  1, 0,  0, -1, -1, -1 };\n",
    "int arroundY[] = { 1, 0, -1, 1, -1,  1,  0, -1 };\n",
    "\n",
    "// Loop through the table.keySet()\n",
    "for (Pair<Integer,Integer> pair : table.keySet() ){\n",
    "    // Increment arround the mine\n",
    "    for (int i = 0 ; i < arroundX.length ; i++){\n",
    "        \n",
    "        // Don't get out of the range\n",
    "        if  (((pair.second + arroundX[i] >= 0) && (pair.second + arroundX[i] < column)) &&\n",
    "             ((pair.first  + arroundY[i] >= 0) && (pair.first  + arroundY[i] < row   ))){\n",
    "            \n",
    "            // if the place is mine => don't increment\n",
    "            if (field[pair.first + arroundY[i]][pair.second + arroundX[i]] != 9){  // 1, 4\n",
    "                // Increment\n",
    "                field[pair.first + arroundY[i]][pair.second + arroundX[i]] += 1 ;\n",
    "            }\n",
    "        }\n",
    "    }\n",
    "}\n",
    "\n",
    "for (int i = 0 ; i < row ; i++){\n",
    "    for (int j = 0 ; j < column ; j++){\n",
    "        System.out.print(field[i][j] + \" \");\n",
    "    }\n",
    "    System.out.println();\n",
    "}"
   ]
  },
  {
   "cell_type": "markdown",
   "metadata": {},
   "source": [
    "***\n",
    "# Back to Step 2\n",
    "- Create a random pair\n",
    "\n",
    "### Small Consideration\n",
    "1. candidate array : **[ {0,0}, {0,1}, {0,2} , ... , {row-1, column-1} ]**\n",
    "    - Length of candidate array is row * column  \n",
    "  \n",
    "2. Take one element from candidate and remove\n",
    "    - Taken element will be the pair\n",
    "  \n",
    "3. candidate array : **[ {0,0}, {0,2} , ... , {row-1, column-1} ]** // Example {0,1} is taken\n",
    "    - Length of candidate array is row * column -1\n",
    "    \n",
    "#### => Take the Random number from 0 to length - 1"
   ]
  },
  {
   "cell_type": "code",
   "execution_count": 66,
   "metadata": {},
   "outputs": [
    {
     "name": "stdout",
     "output_type": "stream",
     "text": [
      "REPL.$JShell$23$Pair@43f\n"
     ]
    },
    {
     "ename": "CompilationException",
     "evalue": "",
     "output_type": "error",
     "traceback": [
      "\u001b[1m\u001b[30m|   \u001b[1m\u001b[30m\u001b[0m\u001b[1m\u001b[30m\u001b[41mcandidate.remove\u001b[0m\u001b[1m\u001b[30m(2+4);\u001b[0m",
      "\u001b[1m\u001b[31mcannot find symbol\u001b[0m",
      "\u001b[1m\u001b[31m  symbol:   method remove(int)\u001b[0m",
      ""
     ]
    }
   ],
   "source": [
    "// Create initial candidate\n",
    "Pair<Integer,Integer>[] candidate= new Pair[row*column];\n",
    "for (int i = 0 ; i < row ; i++ ){\n",
    "    for (int j = 0 ; j < column ; j++){\n",
    "        candidate[i+j] = new Pair<Integer,Integer> (i,j);\n",
    "    }\n",
    "}\n",
    "System.out.println(candidate[2+4]);\n",
    "candidate.remove(2+4);\n",
    "candidate.length"
   ]
  },
  {
   "cell_type": "markdown",
   "metadata": {},
   "source": [
    "### Error \n",
    "- We don't have the remove method for array we implement\n",
    "\n",
    "#### => Make in ArrayList"
   ]
  },
  {
   "cell_type": "code",
   "execution_count": 67,
   "metadata": {},
   "outputs": [
    {
     "name": "stdout",
     "output_type": "stream",
     "text": [
      "0, 1\n",
      "0, 2\n",
      "24\n"
     ]
    }
   ],
   "source": [
    "// Create initial candidate\n",
    "ArrayList<Pair<Integer,Integer>> candidate = new ArrayList<Pair<Integer,Integer>>() ;\n",
    "for (int i = 0 ; i < row ; i++ ){\n",
    "    for (int j = 0 ; j < column ; j++){\n",
    "        candidate.add(new Pair<Integer,Integer> (i,j));\n",
    "    }\n",
    "}\n",
    "\n",
    "// Memo\n",
    "System.out.println(candidate.get(1).first + \", \" +candidate.get(1).second);\n",
    "candidate.remove(1);\n",
    "System.out.println(candidate.get(1).first + \", \" +candidate.get(1).second);\n",
    "System.out.println(candidate.size());"
   ]
  },
  {
   "cell_type": "code",
   "execution_count": 72,
   "metadata": {},
   "outputs": [
    {
     "data": {
      "text/plain": [
       "21"
      ]
     },
     "execution_count": 72,
     "metadata": {},
     "output_type": "execute_result"
    }
   ],
   "source": [
    "// Generate random number\n",
    "import java.util.Random;\n",
    "Random rand = new Random();\n",
    "int randNum = rand.nextInt(candidate.size());\n",
    "randNum"
   ]
  },
  {
   "cell_type": "markdown",
   "metadata": {},
   "source": [
    "## Look back what we have to do\n",
    "#### Step 2) Set the mine\n",
    "- Loop for mine times\n",
    "    - ~~Generate two random number~~\n",
    "        - ~~randRow1: 0 ~ row-1~~  \n",
    "        - ~~randCol2: 0 ~ column-1~~\n",
    "    - ~~If mine is already set (table[{randRow, randCol}])~~\n",
    "        - ~~Make another random number <= We need to do efficient way to calculate~~\n",
    "        \n",
    "#### Take from unallocated place (name candidate)\n",
    "- candidate will be one dimentinal array\n",
    "    \n",
    "- ~~Otherwise~~\n",
    "    - Set to table\n",
    "    - Set the field[randRow][randCol] to be 9 "
   ]
  },
  {
   "cell_type": "code",
   "execution_count": 73,
   "metadata": {},
   "outputs": [],
   "source": [
    "import java.util.Random;\n",
    "Random rand = new Random();\n",
    "\n",
    "// Create initial candidate\n",
    "ArrayList<Pair<Integer,Integer>> candidate = new ArrayList<Pair<Integer,Integer>>() ;\n",
    "for (int i = 0 ; i < row ; i++ ){\n",
    "    for (int j = 0 ; j < column ; j++){\n",
    "        candidate.add(new Pair<Integer,Integer> (i,j));\n",
    "    }\n",
    "}\n",
    "\n",
    "// Create table\n",
    "Map<Pair<Integer,Integer>, Boolean> table = new HashMap();\n",
    "\n",
    "// Declare ranNum\n",
    "int randNum;\n",
    "\n",
    "// Loop for mine time\n",
    "for (int i = 0 ; i < numMine ; i++){\n",
    "    // Generate random number\n",
    "    randNum = rand.nextInt(candidate.size());\n",
    "    // Set to table\n",
    "    table.put(new Pair<Integer,Integer>(candidate.get(randNum).first,candidate.get(randNum).second),true);\n",
    "    // Remove from candidate\n",
    "    candidate.remove(randNum);\n",
    "}\n",
    "\n",
    "// Place the mine in field\n",
    "for (Pair<Integer,Integer> pair : table.keySet()){\n",
    "    field[pair.first][pair.second] = 9;\n",
    "}"
   ]
  },
  {
   "cell_type": "markdown",
   "metadata": {},
   "source": [
    "***\n",
    "# Step 4 : Rerturn the field\n"
   ]
  },
  {
   "cell_type": "code",
   "execution_count": 3,
   "metadata": {},
   "outputs": [],
   "source": [
    "// Create the Pair class\n",
    "public class Pair<X,Y>{\n",
    "    public final X first;\n",
    "    public final Y second;\n",
    "    // Constructor\n",
    "    public Pair(X first , Y second){\n",
    "        this.first  = first;\n",
    "        this.second = second;\n",
    "    }\n",
    "    @Override\n",
    "    public boolean equals(Object obj){\n",
    "        if (!(obj instanceof Pair)) return false;\n",
    "        Pair<X, Y> p = (Pair<X, Y>) obj;\n",
    "        return (first == p.first) && (second == p.second);\n",
    "    }\n",
    "    @Override\n",
    "    public int hashCode() {\n",
    "        return Objects.hash(first, second);\n",
    "    }\n",
    "}"
   ]
  },
  {
   "cell_type": "code",
   "execution_count": 7,
   "metadata": {},
   "outputs": [
    {
     "name": "stdin",
     "output_type": "stream",
     "text": [
      " 10 10 99\n"
     ]
    },
    {
     "name": "stdout",
     "output_type": "stream",
     "text": [
      "row     = 10\n",
      "column  = 10\n",
      "numMine = 99\n",
      "9 9 9 9 9 9 9 9 9 9 \n",
      "9 9 9 9 9 9 9 9 9 9 \n",
      "9 9 9 9 9 9 9 9 9 9 \n",
      "9 9 9 9 9 9 9 9 9 9 \n",
      "9 9 9 9 9 9 9 9 9 5 \n",
      "9 9 9 9 9 9 9 9 9 9 \n",
      "9 9 9 9 9 9 9 9 9 9 \n",
      "9 9 9 9 9 9 9 9 9 9 \n",
      "9 9 9 9 9 9 9 9 9 9 \n",
      "9 9 9 9 9 9 9 9 9 9 \n"
     ]
    }
   ],
   "source": [
    "import java.util.Random;\n",
    "Random rand = new Random();\n",
    "\n",
    "// Data input\n",
    "import java.util.Scanner;\n",
    "Scanner scanner = new Scanner(System.in);\n",
    "\n",
    "int row     = scanner.nextInt();\n",
    "int column  = scanner.nextInt();\n",
    "int numMine = scanner.nextInt();\n",
    "if (numMine > row * column) numMine = row*column;\n",
    "scanner.close();\n",
    "\n",
    "System.out.println(\"row     = \"+row);\n",
    "System.out.println(\"column  = \"+column);\n",
    "System.out.println(\"numMine = \"+numMine);\n",
    "\n",
    "// Create field\n",
    "int field[][] = new int[row][column];\n",
    "\n",
    "// Create table\n",
    "Map<Pair<Integer,Integer>, Boolean> table = new HashMap();\n",
    "\n",
    "// Create initial candidate\n",
    "ArrayList<Pair<Integer,Integer>> candidate = new ArrayList<Pair<Integer,Integer>>() ;\n",
    "for (int i = 0 ; i < row ; i++ ){\n",
    "    for (int j = 0 ; j < column ; j++){\n",
    "        candidate.add(new Pair<Integer,Integer> (i,j));\n",
    "    }\n",
    "}\n",
    "\n",
    "// Create table\n",
    "Map<Pair<Integer,Integer>, Boolean> table = new HashMap();\n",
    "\n",
    "// Declare ranNum\n",
    "int randNum;\n",
    "\n",
    "// Loop for mine time\n",
    "for (int i = 0 ; i < numMine ; i++){\n",
    "    // Generate random number\n",
    "    randNum = rand.nextInt(candidate.size());\n",
    "    // Set to table\n",
    "    table.put(new Pair<Integer,Integer>(candidate.get(randNum).first,candidate.get(randNum).second),true);\n",
    "    // Remove from candidate\n",
    "    candidate.remove(randNum);\n",
    "}\n",
    "\n",
    "// Place the mine in field\n",
    "for (Pair<Integer,Integer> pair : table.keySet()){\n",
    "    field[pair.first][pair.second] = 9;\n",
    "}\n",
    "\n",
    "int arroundX[] = { 1, 1,  1, 0,  0, -1, -1, -1 };\n",
    "int arroundY[] = { 1, 0, -1, 1, -1,  1,  0, -1 };\n",
    "\n",
    "// Loop through the table.keySet()\n",
    "for (Pair<Integer,Integer> pair : table.keySet() ){\n",
    "    // Increment arround the mine\n",
    "    for (int i = 0 ; i < arroundX.length ; i++){\n",
    "        \n",
    "        // Don't get out of the range\n",
    "        if  (((pair.second + arroundX[i] >= 0) && (pair.second + arroundX[i] < column)) &&\n",
    "             ((pair.first  + arroundY[i] >= 0) && (pair.first  + arroundY[i] < row   ))){\n",
    "            \n",
    "            // if the place is mine => don't increment\n",
    "            if (field[pair.first + arroundY[i]][pair.second + arroundX[i]] != 9){  // 1, 4\n",
    "                // Increment\n",
    "                field[pair.first + arroundY[i]][pair.second + arroundX[i]] += 1 ;\n",
    "            }\n",
    "        }\n",
    "    }\n",
    "}\n",
    "\n",
    "for (int i = 0 ; i < row ; i++){\n",
    "    for (int j = 0 ; j < column ; j++){\n",
    "        System.out.print(field[i][j] + \" \");\n",
    "    }\n",
    "    System.out.println();\n",
    "}"
   ]
  },
  {
   "cell_type": "markdown",
   "metadata": {},
   "source": [
    "# Clean up + Consider Order\n",
    "- Order : **O(N * M)**\n",
    "    - N : row\n",
    "    - M : column"
   ]
  },
  {
   "cell_type": "code",
   "execution_count": 2,
   "metadata": {},
   "outputs": [],
   "source": [
    "// Create the pair class (Most simplest)\n",
    "public class Pair<X,Y>{\n",
    "    public final X first;\n",
    "    public final Y second;\n",
    "    // Constructor\n",
    "    public Pair(X first , Y second){\n",
    "        this.first  = first;\n",
    "        this.second = second;\n",
    "    }\n",
    "    @Override\n",
    "    public boolean equals(Object obj){\n",
    "        if (!(obj instanceof Pair)) return false;\n",
    "        Pair<X, Y> p = (Pair<X, Y>) obj;\n",
    "        return (first == p.first) && (second == p.second);\n",
    "    }\n",
    "    @Override\n",
    "    public int hashCode() {\n",
    "        return Objects.hash(first, second);\n",
    "    }\n",
    "}"
   ]
  },
  {
   "cell_type": "code",
   "execution_count": 9,
   "metadata": {},
   "outputs": [
    {
     "name": "stdin",
     "output_type": "stream",
     "text": [
      " 50 50 250\n"
     ]
    },
    {
     "name": "stdout",
     "output_type": "stream",
     "text": [
      "row     = 50\n",
      "column  = 50\n",
      "numMine = 250\n",
      "0 0 0 1 1 1 1 9 1 0 0 1 9 1 0 0 0 0 0 1 9 2 2 1 1 0 0 0 0 0 0 0 0 0 0 0 0 1 9 1 0 0 0 0 0 1 9 1 0 0 \n",
      "0 0 0 2 9 2 1 1 1 1 1 2 1 2 1 1 0 0 0 1 2 9 2 9 2 1 1 1 1 1 1 1 1 0 0 0 0 1 1 1 0 0 0 0 1 2 2 1 1 1 \n",
      "0 0 0 2 9 2 0 0 0 1 9 1 0 1 9 1 0 0 0 1 2 2 2 1 2 9 2 2 9 1 2 9 3 1 1 0 0 0 1 1 1 0 0 0 1 9 1 0 1 9 \n",
      "0 0 0 1 1 1 0 1 1 2 1 1 0 1 1 1 0 0 0 1 9 1 0 0 2 2 3 9 2 1 2 9 3 9 1 0 0 0 1 9 1 0 0 0 1 1 1 0 1 1 \n",
      "0 1 1 1 0 1 1 3 9 2 1 1 1 0 0 1 1 1 0 1 1 2 1 1 2 9 3 1 2 1 2 1 2 1 1 0 0 0 1 1 2 1 1 0 0 0 0 0 0 0 \n",
      "0 1 9 1 0 1 9 3 9 2 1 9 1 0 0 1 9 1 1 2 2 2 9 1 3 9 3 0 2 9 2 0 0 0 0 0 1 1 1 0 1 9 2 1 0 0 0 0 0 0 \n",
      "0 1 1 1 0 1 1 2 1 1 1 1 1 1 1 2 1 1 1 9 9 2 1 1 2 9 2 0 2 9 2 1 1 2 1 1 1 9 1 0 1 2 9 1 0 1 1 1 0 0 \n",
      "0 0 0 0 0 0 0 0 0 0 0 0 0 1 9 1 0 0 1 2 2 1 0 0 1 1 2 1 2 2 2 3 9 3 9 1 1 1 1 0 0 1 2 2 1 1 9 1 0 0 \n",
      "0 0 0 0 0 0 0 0 0 0 0 0 0 1 1 1 0 0 0 0 0 0 0 1 1 1 1 9 1 1 9 3 9 3 1 1 0 0 0 0 0 0 1 9 1 1 1 1 0 0 \n",
      "0 1 1 1 0 0 0 0 0 0 0 0 0 0 0 1 1 1 0 0 0 0 1 2 9 1 1 2 2 2 1 3 2 2 0 0 0 0 0 1 1 1 1 1 1 1 1 1 0 0 \n",
      "0 1 9 1 0 0 0 0 0 1 1 1 1 1 1 1 9 2 2 1 1 0 1 9 2 1 1 2 9 1 0 1 9 1 0 0 0 0 0 1 9 2 1 0 0 1 9 1 0 0 \n",
      "0 1 1 1 0 1 1 1 0 1 9 1 2 9 3 2 2 9 3 9 2 1 1 1 1 0 1 9 2 1 1 2 2 1 0 0 0 0 0 1 2 9 1 0 0 1 1 1 0 0 \n",
      "0 0 0 0 0 1 9 1 1 2 2 1 2 9 9 1 1 2 9 3 9 1 0 0 0 0 1 1 1 0 2 9 3 1 0 0 0 0 0 1 2 2 1 0 1 1 1 0 0 0 \n",
      "1 2 2 1 0 1 1 1 1 9 1 0 1 2 2 1 0 1 2 3 2 1 0 0 0 0 0 0 0 0 2 9 9 1 0 0 0 0 1 2 9 1 0 0 1 9 1 0 0 0 \n",
      "1 9 9 1 0 1 1 1 1 1 1 0 0 0 0 0 0 0 1 9 1 0 1 1 1 0 0 0 1 1 2 2 3 2 1 0 0 0 1 9 2 1 0 0 1 1 1 0 0 0 \n",
      "1 2 2 1 0 1 9 1 0 0 0 0 0 0 0 0 0 0 2 3 3 1 2 9 2 0 0 0 2 9 2 0 1 9 1 0 0 0 1 1 1 0 0 0 1 1 1 1 1 1 \n",
      "2 2 1 0 0 1 1 2 1 1 1 1 1 0 0 0 0 0 2 9 9 2 4 9 3 0 0 0 2 9 2 0 1 1 1 1 1 1 0 0 0 0 0 0 1 9 1 1 9 1 \n",
      "9 9 1 0 0 0 0 1 9 1 2 9 3 1 1 0 0 0 2 9 4 9 3 9 2 0 0 0 1 1 1 0 0 0 0 1 9 1 0 0 0 0 1 1 2 1 1 1 1 1 \n",
      "2 2 1 1 1 1 0 1 1 1 2 9 3 9 2 1 2 1 2 1 2 1 2 1 1 0 0 0 0 1 1 1 0 0 0 2 2 2 0 0 0 0 1 9 2 1 1 1 1 1 \n",
      "0 0 0 1 9 2 1 0 0 0 1 1 2 2 3 9 2 9 2 1 0 0 0 0 0 0 0 0 0 1 9 1 1 1 1 1 9 2 2 1 1 0 1 1 2 9 1 1 9 1 \n",
      "0 0 0 1 2 9 1 0 0 0 0 0 1 2 9 2 2 3 9 2 1 1 2 1 1 1 1 1 0 1 1 1 2 9 2 1 2 9 2 9 1 0 0 0 1 1 1 1 1 1 \n",
      "0 0 0 0 1 1 1 0 0 0 0 0 2 9 3 1 1 4 9 4 2 9 2 9 2 2 9 3 2 1 0 0 2 9 2 0 1 2 3 2 1 0 0 0 0 0 1 1 1 0 \n",
      "0 0 0 0 0 0 0 0 0 0 0 0 2 9 2 0 2 9 9 9 2 1 2 1 2 9 4 9 9 3 2 1 1 1 2 1 1 1 9 1 1 1 1 0 0 0 1 9 1 0 \n",
      "0 0 1 1 1 0 0 0 0 0 0 0 1 1 1 1 4 9 9 4 1 0 0 0 1 2 9 4 5 9 9 2 1 0 2 9 2 1 1 1 1 9 2 1 1 0 1 1 1 0 \n",
      "0 0 1 9 1 0 0 0 0 0 0 0 0 0 0 1 9 9 9 2 1 1 1 0 0 1 1 2 9 9 4 9 1 0 2 9 2 0 0 0 1 1 2 9 1 0 0 0 1 1 \n",
      "0 0 1 1 1 0 0 0 0 0 0 1 1 1 0 1 2 4 3 2 1 9 1 0 0 0 0 1 2 2 2 1 1 0 1 1 1 0 0 0 0 0 1 1 2 1 1 0 1 9 \n",
      "0 0 0 0 0 0 0 1 1 1 0 1 9 1 1 1 1 1 9 1 1 2 2 1 0 0 0 0 0 0 0 1 1 1 0 0 0 0 0 0 0 0 0 0 1 9 2 1 1 1 \n",
      "1 1 0 0 0 0 0 2 9 2 0 1 1 1 1 9 1 1 1 1 0 2 9 2 0 0 0 0 0 0 0 1 9 1 1 1 1 0 0 0 0 0 0 0 1 2 9 1 0 0 \n",
      "9 1 0 0 0 0 0 2 9 2 0 0 0 0 1 1 1 0 0 0 0 3 9 3 1 1 1 0 0 0 0 1 1 1 1 9 1 0 1 1 1 0 0 0 0 1 1 1 0 0 \n",
      "1 1 0 0 0 1 1 2 1 1 0 0 0 0 0 0 0 0 0 0 0 2 9 3 2 9 1 0 0 0 0 1 1 1 1 1 1 0 2 9 3 1 0 0 0 1 2 2 2 1 \n",
      "0 0 0 0 0 1 9 1 0 0 0 0 0 0 0 0 0 0 0 0 0 1 1 2 9 2 1 0 0 0 0 1 9 1 0 0 0 0 2 9 9 1 0 1 1 2 9 9 2 9 \n",
      "0 0 0 0 0 1 1 2 2 2 1 0 0 0 0 0 0 0 0 0 0 0 0 1 1 1 0 0 0 0 0 1 1 1 0 0 0 0 1 2 3 2 1 1 9 3 3 2 2 1 \n",
      "0 0 0 0 0 0 0 1 9 9 1 0 0 0 0 0 1 1 1 0 1 1 2 1 1 0 1 1 1 0 1 1 1 0 0 0 0 0 0 0 1 9 3 4 4 9 2 1 0 0 \n",
      "1 2 2 2 2 2 1 1 2 2 1 0 0 0 0 0 1 9 1 0 1 9 2 9 1 0 1 9 1 0 1 9 2 1 0 0 0 0 0 1 2 3 9 9 9 3 9 1 0 0 \n",
      "1 9 9 3 9 9 1 0 0 1 1 1 0 0 0 0 1 1 2 1 2 1 2 1 1 0 1 1 1 0 1 2 9 1 0 0 1 1 1 1 9 2 2 3 2 2 1 1 0 0 \n",
      "1 2 3 9 3 2 2 1 1 1 9 1 0 0 0 0 1 1 2 9 1 0 0 0 0 0 0 0 0 0 0 1 1 2 1 1 1 9 1 1 1 1 0 0 0 1 1 1 0 0 \n",
      "1 1 2 2 2 0 1 9 1 1 1 1 1 1 1 0 1 9 2 1 1 0 0 0 0 0 0 0 0 0 0 0 0 1 9 1 1 1 1 0 0 0 0 0 0 1 9 1 0 0 \n",
      "9 1 1 9 1 0 1 1 1 0 0 0 1 9 1 0 1 1 1 0 0 0 0 0 0 0 0 0 0 1 1 1 0 1 1 1 0 0 0 0 0 0 0 0 0 1 1 1 0 0 \n",
      "1 1 1 1 1 0 0 0 0 0 0 0 1 2 3 2 1 0 0 0 0 0 0 0 0 0 0 0 0 1 9 1 0 1 1 1 0 0 0 0 0 0 0 0 0 1 1 1 0 0 \n",
      "0 0 0 0 0 0 0 0 0 0 0 1 1 2 9 9 1 0 0 0 0 0 1 1 1 0 0 0 0 1 1 1 0 1 9 1 1 1 1 0 0 0 0 0 0 1 9 1 0 0 \n",
      "0 0 0 0 0 0 0 0 0 0 0 1 9 2 2 2 1 0 0 0 0 1 2 9 2 1 1 0 0 0 1 1 1 1 1 1 1 9 2 1 0 1 1 1 0 1 1 1 0 0 \n",
      "0 0 0 0 0 0 0 0 0 0 0 1 1 1 1 1 1 0 0 0 0 2 9 3 2 9 1 0 0 1 2 9 1 1 1 1 1 2 9 1 1 3 9 2 0 0 0 0 0 0 \n",
      "0 0 0 0 0 0 0 0 0 0 0 0 0 0 1 9 1 0 0 0 0 2 9 2 1 1 1 0 0 1 9 2 1 1 9 1 0 2 2 2 2 9 9 2 0 0 0 0 1 1 \n",
      "0 0 0 1 1 1 0 0 0 0 0 0 1 1 2 1 1 0 0 0 0 1 1 1 0 1 1 1 0 1 1 1 1 2 2 1 0 1 9 1 2 9 3 2 1 1 0 0 2 9 \n",
      "0 0 1 2 9 2 1 0 0 0 0 0 1 9 1 0 0 0 0 0 1 2 2 1 0 1 9 1 1 1 1 1 2 9 1 0 0 1 1 1 1 1 1 2 9 2 0 0 2 9 \n",
      "0 0 2 9 4 9 1 0 0 0 0 0 1 1 1 0 0 0 0 1 2 9 9 1 0 2 2 2 1 9 1 1 9 2 1 0 0 0 0 0 0 0 0 2 9 2 0 0 1 1 \n",
      "0 0 2 9 3 1 1 0 0 0 0 0 0 0 1 1 1 0 1 3 9 5 3 1 0 1 9 1 1 1 1 1 1 1 0 0 0 0 1 1 1 0 0 2 2 2 0 0 0 0 \n",
      "0 0 2 2 2 0 0 0 0 0 0 0 0 0 1 9 1 0 1 9 9 9 1 0 0 1 1 1 1 1 1 0 0 0 0 1 2 2 2 9 1 0 0 1 9 1 0 0 0 0 \n",
      "0 1 2 9 1 0 0 0 1 1 1 0 0 0 1 1 1 1 2 4 4 3 1 0 0 0 0 0 1 9 2 1 1 0 1 2 9 9 2 1 1 0 0 1 1 1 0 0 0 0 \n",
      "0 1 9 2 1 0 0 0 1 9 1 0 0 0 0 0 0 1 9 2 9 1 0 0 0 0 0 0 1 1 2 9 1 0 1 9 3 2 1 0 0 0 0 0 0 0 0 0 0 0 \n"
     ]
    }
   ],
   "source": [
    "import java.util.Random;\n",
    "import java.util.Scanner;\n",
    "Random rand = new Random();\n",
    "Scanner scanner = new Scanner(System.in);\n",
    "\n",
    "// Data input\n",
    "int row     = scanner.nextInt();\n",
    "int column  = scanner.nextInt();\n",
    "int numMine = scanner.nextInt();\n",
    "scanner.close();\n",
    "System.out.println(\"row     = \"+row);\n",
    "System.out.println(\"column  = \"+column);\n",
    "System.out.println(\"numMine = \"+numMine);\n",
    "\n",
    "// Create essential variables\n",
    "ArrayList<Pair<Integer,Integer>> candidate = new ArrayList<Pair<Integer,Integer>>() ;\n",
    "Map<Pair<Integer,Integer>, Boolean> table = new HashMap();\n",
    "int field[][] = new int[row][column];\n",
    "int arroundX[] = { 1, 1,  1, 0,  0, -1, -1, -1 };\n",
    "int arroundY[] = { 1, 0, -1, 1, -1,  1,  0, -1 };\n",
    "int randNum;\n",
    "\n",
    "// Step2_1 Initialize Candidate\n",
    "for (int i = 0 ; i < row ; i++ ){\n",
    "    for (int j = 0 ; j < column ; j++){\n",
    "        candidate.add(new Pair<Integer,Integer> (i,j));\n",
    "    }\n",
    "}\n",
    "\n",
    "// Step2_2 Extract the mine place and set 9\n",
    "for (int i = 0 ; i < numMine ; i++){\n",
    "    randNum = rand.nextInt(candidate.size());\n",
    "    table.put(new Pair<Integer,Integer>(candidate.get(randNum).first,candidate.get(randNum).second),true);\n",
    "    field[candidate.get(randNum).first][candidate.get(randNum).second] = 9;\n",
    "    candidate.remove(randNum);\n",
    "}\n",
    "\n",
    "// Step3 Numbering the field\n",
    "for (Pair<Integer,Integer> pair : table.keySet() ){\n",
    "    for (int i = 0 ; i < arroundX.length ; i++){\n",
    "        \n",
    "        if  (((pair.second + arroundX[i] >= 0) && (pair.second + arroundX[i] < column)) &&\n",
    "             ((pair.first  + arroundY[i] >= 0) && (pair.first  + arroundY[i] < row   ))){\n",
    "\n",
    "            if (field[pair.first + arroundY[i]][pair.second + arroundX[i]] != 9){\n",
    "                field[pair.first + arroundY[i]][pair.second + arroundX[i]] += 1 ;\n",
    "            }\n",
    "        }\n",
    "    }\n",
    "}\n",
    "\n",
    "// Step4 Check ( and return ) the field\n",
    "for (int i = 0 ; i < row ; i++){\n",
    "    for (int j = 0 ; j < column ; j++){\n",
    "        System.out.print(field[i][j] + \" \");\n",
    "    }\n",
    "    System.out.println();\n",
    "}"
   ]
  },
  {
   "cell_type": "markdown",
   "metadata": {},
   "source": [
    "***\n",
    "# Making Game\n",
    "## Making Part1"
   ]
  },
  {
   "cell_type": "code",
   "execution_count": 34,
   "metadata": {},
   "outputs": [
    {
     "name": "stdout",
     "output_type": "stream",
     "text": [
      "Input the number of row (1 ~ 50) :"
     ]
    },
    {
     "name": "stdin",
     "output_type": "stream",
     "text": [
      " 43\n"
     ]
    },
    {
     "name": "stdout",
     "output_type": "stream",
     "text": [
      "Input the number of column (1 ~ 50) :"
     ]
    },
    {
     "name": "stdin",
     "output_type": "stream",
     "text": [
      " 43\n"
     ]
    },
    {
     "name": "stdout",
     "output_type": "stream",
     "text": [
      "Is it OK? Your input => (row :  43, column : 43 ) [yes/no]\n"
     ]
    },
    {
     "name": "stdin",
     "output_type": "stream",
     "text": [
      " no\n"
     ]
    },
    {
     "name": "stdout",
     "output_type": "stream",
     "text": [
      "no\n",
      "Heelo\n",
      "Input the number of row (1 ~ 50) :"
     ]
    },
    {
     "name": "stdin",
     "output_type": "stream",
     "text": [
      " 32\n"
     ]
    },
    {
     "name": "stdout",
     "output_type": "stream",
     "text": [
      "Input the number of column (1 ~ 50) :"
     ]
    },
    {
     "name": "stdin",
     "output_type": "stream",
     "text": [
      " 43\n"
     ]
    },
    {
     "name": "stdout",
     "output_type": "stream",
     "text": [
      "Is it OK? Your input => (row :  32, column : 43 ) [yes/no]\n"
     ]
    },
    {
     "name": "stdin",
     "output_type": "stream",
     "text": [
      " yes\n"
     ]
    },
    {
     "name": "stdout",
     "output_type": "stream",
     "text": [
      "yes\n"
     ]
    }
   ],
   "source": [
    "import java.util.Scanner;\n",
    "Scanner scanner = new Scanner(System.in);\n",
    "\n",
    "\n",
    "boolean isEnd = false;\n",
    "boolean isValid;\n",
    "String accept;\n",
    "int rowInput, colInput;\n",
    "// Create the answer field\n",
    "\n",
    "while(!isEnd){\n",
    "    isValid = false;\n",
    "    while(!isValid){\n",
    "        System.out.print(\"Input the number of row (1 ~ \" + row +\") :\" );\n",
    "        rowInput = scanner.nextInt()-1;\n",
    "        // Checking Invalid\n",
    "        if (rowInput<=0 || rowInput > row){\n",
    "            System.out.println(\"It's invalid number!\");\n",
    "            continue;\n",
    "        }\n",
    "        else isValid = true;\n",
    "    }\n",
    "    \n",
    "    do{\n",
    "        System.out.print(\"Input the number of column (1 ~ \" + column +\") :\" );\n",
    "        colInput = scanner.nextInt()-1;\n",
    "        // Checking Invalid\n",
    "        if (colInput<=0 || colInput > column){\n",
    "            System.out.println(\"It's invalid number!\");\n",
    "            isValid = false;\n",
    "            continue;\n",
    "        }\n",
    "        else isValid = true;\n",
    "    }while(!isValid);\n",
    "    \n",
    "    // Confirm the input\n",
    "    System.out.println(\"Is it OK? Your input => (row :  \"+(rowInput+1)+\", column : \"+(colInput+1)+ \" ) [yes/no]\");\n",
    "    accept = scanner.next();\n",
    "    if (accept.equals(\"no\")) continue;\n",
    "\n",
    "    \n",
    "    isEnd = true;\n",
    "}"
   ]
  },
  {
   "cell_type": "markdown",
   "metadata": {},
   "source": [
    "# Complete\n",
    "#### Don't forget to execute the next tow cell"
   ]
  },
  {
   "cell_type": "code",
   "execution_count": 1,
   "metadata": {},
   "outputs": [],
   "source": [
    "// Create the pair class (Most simplest)\n",
    "public class Pair<X,Y>{\n",
    "    public final X first;\n",
    "    public final Y second;\n",
    "    // Constructor\n",
    "    public Pair(X first , Y second){\n",
    "        this.first  = first;\n",
    "        this.second = second;\n",
    "    }\n",
    "    @Override\n",
    "    public boolean equals(Object obj){\n",
    "        if (!(obj instanceof Pair)) return false;\n",
    "        Pair<X, Y> p = (Pair<X, Y>) obj;\n",
    "        return (first == p.first) && (second == p.second);\n",
    "    }\n",
    "    @Override\n",
    "    public int hashCode() {\n",
    "        return Objects.hash(first, second);\n",
    "    }\n",
    "}"
   ]
  },
  {
   "cell_type": "code",
   "execution_count": 2,
   "metadata": {},
   "outputs": [],
   "source": [
    "public void showCurrentField(String[][] currentField, int rowChosen , int colChosen){\n",
    "    for (int i = 0 ; i < row ; i++){\n",
    "        for (int j = 0 ; j < column ; j++){\n",
    "            if (i == rowChosen && j == colChosen){\n",
    "                System.out.print(\"* \");\n",
    "            }\n",
    "            else System.out.print(currentField[i][j] + \" \");\n",
    "        }\n",
    "        System.out.println();\n",
    "    }\n",
    "}\n",
    "public void showAnswer(int[][] field){\n",
    "    for (int i = 0 ; i < row ; i++){\n",
    "        for (int j = 0 ; j < column ; j++){\n",
    "            System.out.print(field[i][j] + \" \");\n",
    "        }\n",
    "        System.out.println();\n",
    "    }\n",
    "    System.out.println();\n",
    "}"
   ]
  },
  {
   "cell_type": "code",
   "execution_count": 4,
   "metadata": {},
   "outputs": [
    {
     "name": "stdin",
     "output_type": "stream",
     "text": [
      " 10 2 50\n"
     ]
    },
    {
     "name": "stdout",
     "output_type": "stream",
     "text": [
      "row     = 10\n",
      "column  = 2\n",
      "numMine = 20\n",
      "- - \n",
      "- - \n",
      "- - \n",
      "- - \n",
      "- - \n",
      "- - \n",
      "- - \n",
      "- - \n",
      "- - \n",
      "- - \n",
      "Input the number of row (1 ~ 10) :"
     ]
    },
    {
     "name": "stdin",
     "output_type": "stream",
     "text": [
      " 1\n"
     ]
    },
    {
     "name": "stdout",
     "output_type": "stream",
     "text": [
      "Input the number of column (1 ~ 2) :"
     ]
    },
    {
     "name": "stdin",
     "output_type": "stream",
     "text": [
      " 1\n"
     ]
    },
    {
     "name": "stdout",
     "output_type": "stream",
     "text": [
      "* - \n",
      "- - \n",
      "- - \n",
      "- - \n",
      "- - \n",
      "- - \n",
      "- - \n",
      "- - \n",
      "- - \n",
      "- - \n",
      "Is it OK? Your input => (row :  1, column : 1 ) [yes/no]\n"
     ]
    },
    {
     "name": "stdin",
     "output_type": "stream",
     "text": [
      " yes\n"
     ]
    },
    {
     "name": "stdout",
     "output_type": "stream",
     "text": [
      "\n",
      "Boom!\n",
      "\n",
      "9 9 \n",
      "9 9 \n",
      "9 9 \n",
      "9 9 \n",
      "9 9 \n",
      "9 9 \n",
      "9 9 \n",
      "9 9 \n",
      "9 9 \n",
      "9 9 \n",
      "\n"
     ]
    }
   ],
   "source": [
    "import java.util.Random;\n",
    "import java.util.Scanner;\n",
    "Random rand = new Random();\n",
    "Scanner scanner = new Scanner(System.in);\n",
    "\n",
    "// Data input\n",
    "int row     = scanner.nextInt();\n",
    "int column  = scanner.nextInt();\n",
    "int numMine = scanner.nextInt();\n",
    "if (numMine > row*column) numMine = row*column;\n",
    "System.out.println(\"row     = \"+row);\n",
    "System.out.println(\"column  = \"+column);\n",
    "System.out.println(\"numMine = \"+numMine);\n",
    "\n",
    "// Create essential variables\n",
    "ArrayList<Pair<Integer,Integer>> candidate = new ArrayList<Pair<Integer,Integer>>() ;\n",
    "Map<Pair<Integer,Integer>, Boolean> table = new HashMap();\n",
    "int field[][] = new int[row][column];\n",
    "int arroundX[] = { 1, 1,  1, 0,  0, -1, -1, -1 };\n",
    "int arroundY[] = { 1, 0, -1, 1, -1,  1,  0, -1 };\n",
    "int randNum;\n",
    "\n",
    "// Step2_1 Initialize Candidate\n",
    "for (int i = 0 ; i < row ; i++ ){\n",
    "    for (int j = 0 ; j < column ; j++){\n",
    "        candidate.add(new Pair<Integer,Integer> (i,j));\n",
    "    }\n",
    "}\n",
    "\n",
    "// Step2_2 Extract the mine place and set 9\n",
    "for (int i = 0 ; i < numMine ; i++){\n",
    "    randNum = rand.nextInt(candidate.size());\n",
    "    table.put(new Pair<Integer,Integer>(candidate.get(randNum).first,candidate.get(randNum).second),true);\n",
    "    field[candidate.get(randNum).first][candidate.get(randNum).second] = 9;\n",
    "    candidate.remove(randNum);\n",
    "}\n",
    "\n",
    "// Step3 Numbering the field\n",
    "for (Pair<Integer,Integer> pair : table.keySet() ){\n",
    "    for (int i = 0 ; i < arroundX.length ; i++){\n",
    "        \n",
    "        if  (((pair.second + arroundX[i] >= 0) && (pair.second + arroundX[i] < column)) &&\n",
    "             ((pair.first  + arroundY[i] >= 0) && (pair.first  + arroundY[i] < row   ))){\n",
    "\n",
    "            if (field[pair.first + arroundY[i]][pair.second + arroundX[i]] != 9){\n",
    "                field[pair.first + arroundY[i]][pair.second + arroundX[i]] += 1 ;\n",
    "            }\n",
    "        }\n",
    "    }\n",
    "}\n",
    "\n",
    "// Debugging\n",
    "// for (int i = 0 ; i < row ; i++){\n",
    "//     for (int j = 0 ; j < column ; j++){\n",
    "//         System.out.print(field[i][j] + \" \");\n",
    "//     }\n",
    "//     System.out.println();\n",
    "// }\n",
    "// System.out.println();\n",
    "\n",
    "// Variable for game\n",
    "boolean isEnd = false;\n",
    "boolean isValid;\n",
    "String accept;\n",
    "String quit;\n",
    "int rowInput, colInput;\n",
    "String currentField[][] = new String[row][column];\n",
    "\n",
    "//Initilize CurrentField\n",
    "for (int i = 0 ; i < row ; i++){\n",
    "    for(int j = 0 ; j < column ; j++) currentField[i][j] = \"-\";\n",
    "}\n",
    "\n",
    "\n",
    "// DFS Variable\n",
    "Stack stack = new Stack();\n",
    "Map<Pair<Integer,Integer>, Boolean> dfsTable = new HashMap();\n",
    "Pair<Integer,Integer> current;\n",
    "Pair<Integer,Integer> next;\n",
    "\n",
    "showCurrentField(currentField,-1,-1);\n",
    "\n",
    "while(!isEnd){\n",
    "    isValid = false;\n",
    "    while(!isValid){\n",
    "        System.out.print(\"Input the number of row (1 ~ \" + row +\") :\" );\n",
    "        rowInput = scanner.nextInt()-1;\n",
    "        // Checking Invalid\n",
    "        if (rowInput<0 || rowInput > row){\n",
    "            System.out.println(\"It's invalid number!\");\n",
    "            continue;\n",
    "        }\n",
    "        else isValid = true;\n",
    "    }\n",
    "    \n",
    "    do{\n",
    "        System.out.print(\"Input the number of column (1 ~ \" + column +\") :\" );\n",
    "        colInput = scanner.nextInt()-1;\n",
    "        // Checking Invalid\n",
    "        if (colInput<0 || colInput > column){\n",
    "            System.out.println(\"It's invalid number!\");\n",
    "            isValid = false;\n",
    "            continue;\n",
    "        }\n",
    "        else isValid = true;\n",
    "    }while(!isValid);\n",
    "    \n",
    "    // Show the place user has chosen\n",
    "    showCurrentField(currentField,rowInput,colInput);\n",
    "    \n",
    "    // Confirm the input\n",
    "    System.out.println(\"Is it OK? Your input => (row :  \"+(rowInput+1)+\", column : \"+(colInput+1)+ \" ) [yes/no]\");\n",
    "    accept = scanner.next();\n",
    "    if (accept.equals(\"no\")) continue;\n",
    "    \n",
    "    if (field[rowInput][colInput]==9){\n",
    "        System.out.println();\n",
    "        System.out.println(\"Boom!\");\n",
    "        System.out.println();\n",
    "        showAnswer(field);\n",
    "        break;\n",
    "    }\n",
    "    else if (field[rowInput][colInput]>0){\n",
    "        currentField[rowInput][colInput] = String.valueOf(field[rowInput][colInput]);\n",
    "    }\n",
    "    else { \n",
    "        // DFS\n",
    "        currentField[rowInput][colInput] = \"0\";\n",
    "        stack.push(new Pair<Integer,Integer>(rowInput,colInput));\n",
    "        while(!stack.empty()){\n",
    "            current = (Pair<Integer,Integer>) stack.pop();\n",
    "            for (int i = 0 ; i < arroundX.length ; i++){\n",
    "\n",
    "                if  (((current.second + arroundX[i] >= 0) && (current.second + arroundX[i] < column)) &&\n",
    "                     ((current.first  + arroundY[i] >= 0) && (current.first  + arroundY[i] < row   ))){\n",
    "                    if (field[current.first][current.second] == 0 ){\n",
    "                        if (currentField[current.first + arroundY[i]][current.second + arroundX[i]] == \"-\"){\n",
    "                            next = new Pair<Integer,Integer>(current.first + arroundY[i],current.second + arroundX[i]);\n",
    "                            if (!dfsTable.containsKey(next)){\n",
    "                                currentField[current.first + arroundY[i]][current.second + arroundX[i]] \n",
    "                                    =String.valueOf(field[current.first + arroundY[i]][current.second + arroundX[i]]);\n",
    "                                stack.push(next);\n",
    "                            }\n",
    "                        }\n",
    "                    }\n",
    "                }\n",
    "            }\n",
    "        }\n",
    "    }\n",
    "    showCurrentField(currentField,-1,-1);\n",
    "    \n",
    "    // Continue?\n",
    "    System.out.print(\"Continue? (Write quit to end.)\");\n",
    "    quit = scanner.next();\n",
    "    if (quit.equals(\"quit\")){\n",
    "        System.out.println();\n",
    "        System.out.println(\"<The Answer was ...> \");\n",
    "        System.out.println();\n",
    "        isEnd = true;\n",
    "        showAnswer(field);\n",
    "    }\n",
    "}\n",
    "scanner.close();"
   ]
  },
  {
   "cell_type": "code",
   "execution_count": 12,
   "metadata": {},
   "outputs": [],
   "source": [
    "// DFS Memo\n",
    "Stack stack = new Stack();\n",
    "Map<Pair<Integer,Integer>,Boolean> dfsTable = new HashMap();\n",
    "\n",
    "stack.push(new Pair<Integer,Integer>(1,2));\n",
    "\n",
    "Pair<Integer,Integer> current;\n",
    "Pair<Integer,Integer> next;\n",
    "while(!stack.empty()){\n",
    "    current = (Pair<Integer,Integer>) stack.pop();\n",
    "    for (int i = 0 ; i < arroundX.length ; i++){\n",
    "        \n",
    "        if  (((current.second + arroundX[i] >= 0) && (current.second + arroundX[i] < column)) &&\n",
    "             ((current.first  + arroundY[i] >= 0) && (current.first  + arroundY[i] < row   ))){\n",
    "\n",
    "            if (       field[current.first + arroundY[i]][current.second + arroundX[i]] == 0 && \n",
    "                currentField[current.first + arroundY[i]][current.second + arroundX[i]] != \"-\"){\n",
    "                next = new Pair<Integer,Integer>(current.first + arroundY[i],current.second + arroundX[i]);\n",
    "                if (!dfsTable.contains(next)){\n",
    "                    currentField[current.first + arroundY[i]][current.second + arroundX[i]] = \"0\";\n",
    "                    stack.push(next);\n",
    "                }\n",
    "            }\n",
    "        }\n",
    "    }\n",
    "}"
   ]
  },
  {
   "cell_type": "code",
   "execution_count": 11,
   "metadata": {},
   "outputs": [
    {
     "data": {
      "text/plain": [
       "2"
      ]
     },
     "execution_count": 11,
     "metadata": {},
     "output_type": "execute_result"
    }
   ],
   "source": [
    "// Memo\n",
    "Stack stack = new Stack<Pair<Integer,Integer>>();\n",
    "Pair<Integer,Integer> a = new Pair<Integer,Integer>(1,2);\n",
    "Pair<Integer,Integer> b;\n",
    "stack.push(a);\n",
    "// Point\n",
    "b= (Pair<Integer,Integer>)stack.pop();\n",
    "b.second"
   ]
  },
  {
   "cell_type": "code",
   "execution_count": null,
   "metadata": {},
   "outputs": [],
   "source": []
  }
 ],
 "metadata": {
  "kernelspec": {
   "display_name": "Java",
   "language": "java",
   "name": "java"
  },
  "language_info": {
   "codemirror_mode": "java",
   "file_extension": ".jshell",
   "mimetype": "text/x-java-source",
   "name": "Java",
   "pygments_lexer": "java",
   "version": "15.0.1+9-18"
  }
 },
 "nbformat": 4,
 "nbformat_minor": 4
}
