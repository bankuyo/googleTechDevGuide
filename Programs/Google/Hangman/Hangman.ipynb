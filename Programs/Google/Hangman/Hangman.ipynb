{
 "cells": [
  {
   "cell_type": "markdown",
   "metadata": {},
   "source": [
    "# Hangman\n",
    "***\n"
   ]
  },
  {
   "cell_type": "markdown",
   "metadata": {},
   "source": [
    "# Part 1 - Playing a console-based game\n",
    "\n",
    "## Require"
   ]
  },
  {
   "cell_type": "code",
   "execution_count": 1,
   "metadata": {},
   "outputs": [
    {
     "ename": "CompilationException",
     "evalue": "",
     "output_type": "error",
     "traceback": [
      "\u001b[1m\u001b[30m|   \u001b[1m\u001b[30m\u001b[0m\u001b[1m\u001b[30m\u001b[41m\u001b[0m\u001b[1m\u001b[30mimport acm.util.*;\u001b[0m",
      "\u001b[1m\u001b[31mpackage acm.util does not exist\u001b[0m",
      ""
     ]
    }
   ],
   "source": [
    "/*\n",
    " * File: HangmanLexicon.java\n",
    " * -------------------------\n",
    " * This file contains a stub implementation of the HangmanLexicon\n",
    " * class that you will reimplement for Part III of the assignment.\n",
    " */\n",
    "import acm.util.*;\n",
    "public class HangmanLexicon {\n",
    "    /** Returns the number of words in the lexicon. */\n",
    "    public int getWordCount() {\n",
    "        return 10;\n",
    "}\n",
    "/** Returns the word at the specified index. */\n",
    "public String getWord(int index) {\n",
    "    switch (index) {\n",
    "        case 0: return \"BUOY\";\n",
    "        case 1: return \"COMPUTER\";\n",
    "        case 2: return \"CONNOISSEUR\";\n",
    "        case 3: return \"DEHYDRATE\";\n",
    "        case 4: return \"FUZZY\";\n",
    "        case 5: return \"HUBBUB\";\n",
    "        case 6: return \"KEYHOLE\";\n",
    "        case 7: return \"QUAGMIRE\";\n",
    "        case 8: return \"SLITHER\";\n",
    "        case 9: return \"ZIRCON\";\n",
    "        default: throw new ErrorException(\"getWord: Illegal index\");\n",
    "        }\n",
    "    };\n",
    "}"
   ]
  },
  {
   "cell_type": "code",
   "execution_count": 2,
   "metadata": {},
   "outputs": [
    {
     "ename": "CompilationException",
     "evalue": "",
     "output_type": "error",
     "traceback": [
      "\u001b[1m\u001b[30m|   \u001b[1m\u001b[30m\u001b[0m\u001b[1m\u001b[30m\u001b[41m\u001b[0m\u001b[1m\u001b[30mimport acm.graphics.*;\u001b[0m",
      "\u001b[1m\u001b[31mpackage acm.graphics does not exist\u001b[0m",
      ""
     ]
    }
   ],
   "source": [
    "/*\n",
    " * File: Hangman.java\n",
    " * ------------------\n",
    " * This program will eventually play the Hangman game from\n",
    " * Assignment #4.\n",
    " */\n",
    "\n",
    "import acm.graphics.*;\n",
    "import acm.program.*;\n",
    "import acm.util.*;\n",
    "\n",
    "import java.awt.*;\n",
    "\n",
    "public class Hangman extends ConsoleProgram {\n",
    "\n",
    "    public void run() {\n",
    "\t\t/* You fill this in */\n",
    "\t}\n",
    "\n",
    "}"
   ]
  },
  {
   "cell_type": "code",
   "execution_count": 6,
   "metadata": {},
   "outputs": [
    {
     "ename": "CompilationException",
     "evalue": "",
     "output_type": "error",
     "traceback": [
      "\u001b[1m\u001b[30m|   \u001b[1m\u001b[30m\u001b[0m\u001b[1m\u001b[30m\u001b[41m\u001b[0m\u001b[1m\u001b[30mimport acm.*;\u001b[0m",
      "\u001b[1m\u001b[31mpackage acm does not exist\u001b[0m",
      ""
     ]
    }
   ],
   "source": [
    "import acm.*;"
   ]
  },
  {
   "cell_type": "code",
   "execution_count": null,
   "metadata": {},
   "outputs": [],
   "source": []
  }
 ],
 "metadata": {
  "kernelspec": {
   "display_name": "Java",
   "language": "java",
   "name": "java"
  },
  "language_info": {
   "codemirror_mode": "java",
   "file_extension": ".jshell",
   "mimetype": "text/x-java-source",
   "name": "Java",
   "pygments_lexer": "java",
   "version": "15.0.1+9-18"
  }
 },
 "nbformat": 4,
 "nbformat_minor": 4
}
